{
 "cells": [
  {
   "cell_type": "code",
   "execution_count": null,
   "metadata": {},
   "outputs": [],
   "source": []
  },
  {
   "cell_type": "code",
   "execution_count": null,
   "metadata": {},
   "outputs": [],
   "source": [
    "estilos_ropa = {\n",
    "    \"Casual\": \"Ropa cómoda y relajada, adecuada para el día a día.\",\n",
    "    \"Elegante\": \"Prendas refinadas y sofisticadas, ideales para ocasiones formales.\",\n",
    "    \"Deportivo\": \"Ropa diseñada para actividades físicas o deportivas, como sudaderas y pantalones deportivos.\",\n",
    "    \"Streetwear\": \"Estilo urbano y moderno, influenciado por la cultura de las calles y la moda de los jóvenes.\",\n",
    "    \"Clásico\": \"Estilo atemporal, con prendas que nunca pasan de moda, como camisas de botones o trajes.\",\n",
    "    \"Chic\": \"Elegante pero sin esfuerzo, con prendas sofisticadas y a la moda.\",\n",
    "    \"Minimalista\": \"Estilo sencillo, con pocos elementos y líneas limpias, evitando adornos excesivos.\",\n",
    "    \"Preppy\": \"Estilo inspirado en la moda universitaria, con prendas como suéteres, camisas de cuello y blazers.\",\n",
    "    \"Rocker\": \"Estilo inspirado en el rock, con chaquetas de cuero, camisetas gráficas y detalles metálicos.\",\n",
    "    \"Vaquero\": \"Estilo inspirado en la ropa vaquera, con jeans y camisas a cuadros.\",\n",
    "    \"Bohemio\": \"Estilo relajado con influencias artísticas, que incluye prendas sueltas y accesorios llamativos.\",\n",
    "    \"Sastrero\": \"Estilo formal y de alta gama, centrado en trajes bien confeccionados y camisas de calidad.\",\n",
    "    \"Urbano\": \"Estilo moderno y juvenil, con prendas influenciadas por la cultura de la ciudad.\",\n",
    "    \"Vanguardista\": \"Estilo de moda experimental, que busca romper las convenciones y probar nuevas ideas.\",\n",
    "    \"Futurista\": \"Estilo inspirado en la tecnología y las tendencias futuristas, con materiales innovadores.\",\n",
    "    \"Aristocrático\": \"Estilo clásico y lujoso, asociado con la nobleza y la realeza, que incluye trajes y telas finas.\",\n",
    "    \"Grunge\": \"Estilo inspirado en el rock alternativo de los 90, con ropa sucia, desgastada y accesorios llamativos.\",\n",
    "    \"Hipster\": \"Estilo que combina elementos vintage y modernos, con un enfoque en lo alternativo y la individualidad.\",\n",
    "    \"Étnico\": \"Estilo que incorpora elementos de diversas culturas, como ropa tradicional y colores vibrantes.\",\n",
    "    \"Militar\": \"Estilo inspirado en el ejército, con prendas como chaquetas camufladas, pantalones cargo y botas robustas.\"\n",
    "}"
   ]
  },
  {
   "cell_type": "code",
   "execution_count": null,
   "metadata": {},
   "outputs": [],
   "source": [
    "estilos_parte_superior = {\n",
    "    \"Ajustada\": \"Prendas que siguen la forma del cuerpo, resaltando la silueta.\",\n",
    "    \"Oversize\": \"Prendas de corte amplio y relajado, que crean una silueta suelta y cómoda.\",\n",
    "    \"Entallada\": \"Ropa que se ajusta en la cintura para definir la figura, pero sin ser excesivamente ajustada.\",\n",
    "    \"Con cuello alto\": \"Prendas que cubren el cuello, como suéteres o camisas, perfectas para el frío.\",\n",
    "    \"De escote en V\": \"Prendas con un corte en 'V' en el pecho, favoreciendo la elongación del cuello.\",\n",
    "    \"De manga corta\": \"Prendas con mangas que terminan por encima del codo, ideales para climas cálidos.\",\n",
    "    \"De manga larga\": \"Prendas con mangas largas que cubren hasta la muñeca, ideales para el frío o para un look más formal.\",\n",
    "    \"De capa\": \"Prendas con un diseño fluido, que caen verticalmente o diagonalmente, creando volumen.\",\n",
    "    \"De botones\": \"Prendas con un cierre de botones, generalmente en la parte frontal o lateral.\",\n",
    "    \"De cuello redondo\": \"Prendas con un cuello circular, sin llegar a cubrir el cuello.\",\n",
    "    \"De cuello mao\": \"Prendas con un cuello corto y de corte recto, típicas de camisas o chaquetas.\",\n",
    "    \"Con capucha\": \"Prendas que incluyen una capucha, ideales para un estilo más casual o deportivo.\",\n",
    "    \"De cremallera\": \"Prendas que se cierran con una cremallera, ideales para looks deportivos o casuales.\",\n",
    "    \"De punto\": \"Prendas tejidas, como suéteres o cardigans, perfectas para el invierno.\",\n",
    "    \"Biker\": \"Prendas de inspiración motera, como chaquetas de cuero con detalles metálicos y cierres.\",\n",
    "    \"Suéter\": \"Prenda de punto, generalmente de manga larga, que proporciona calor y comodidad.\",\n",
    "    \"Chaleco\": \"Prenda sin mangas que se usa sobre camisas o suéteres, agregando estilo y estructura.\",\n",
    "    \"Polo\": \"Camiseta de cuello con botones, ideal para un look casual pero con un toque más formal.\",\n",
    "    \"Túnica\": \"Prenda larga y fluida, que cubre hasta las caderas o más abajo, con un estilo relajado.\",\n",
    "    \"Camiseta gráfica\": \"Camiseta con impresiones visuales o mensajes, muy popular en la moda urbana.\",\n",
    "    \"Camisa de cuadros\": \"Camisa con patrón de cuadros, común en estilos casuales y de campo.\"\n",
    "}\n"
   ]
  },
  {
   "cell_type": "code",
   "execution_count": null,
   "metadata": {},
   "outputs": [],
   "source": [
    "estilos_parte_inferior = {\n",
    "    \"Corte recto\": \"Pantalones con corte recto, que no se estrechan ni se ensanchan en las piernas.\",\n",
    "    \"Corte ajustado\": \"Pantalones que siguen la forma del cuerpo, ofreciendo un ajuste ceñido.\",\n",
    "    \"Corte acampanado\": \"Pantalones que se abren hacia los pies, típicos de los años 70, con un corte dramático.\",\n",
    "    \"Corte boyfriend\": \"Pantalones de corte relajado y suelto, ideales para un look informal.\",\n",
    "    \"Corte flare\": \"Pantalones con una abertura gradual desde la rodilla hacia el tobillo.\",\n",
    "    \"Corte pegado\": \"Pantalones extremadamente ajustados, que se adaptan completamente al cuerpo.\",\n",
    "    \"De tiro alto\": \"Pantalones que se colocan por encima de la cintura, alargando las piernas visualmente.\",\n",
    "    \"De tiro bajo\": \"Pantalones que se colocan a la altura de las caderas, con un estilo más relajado.\",\n",
    "    \"Con pliegues\": \"Pantalones con pliegues en la tela, lo que les da volumen y fluidez.\",\n",
    "    \"De corte envolvente\": \"Pantalones que se cruzan o superponen en la parte delantera, ofreciendo un estilo único.\",\n",
    "    \"Corte slim\": \"Pantalones ajustados en las piernas, pero sin llegar a ser completamente ceñidos.\",\n",
    "    \"Corte regular\": \"Pantalones de corte estándar, sin ser demasiado ajustados ni demasiado holgados.\",\n",
    "    \"Corte cargo\": \"Pantalones con bolsillos grandes y detalles adicionales, inspirados en la ropa militar.\",\n",
    "    \"Corte jogger\": \"Pantalones con un ajuste relajado y puños en los tobillos, ideales para el estilo deportivo.\",\n",
    "    \"Con dobladillo\": \"Pantalones con un dobladillo en el final de las piernas, añadiendo detalle al corte.\",\n",
    "    \"Con ribete\": \"Pantalones con una línea o ribete en los laterales, que añaden un toque formal o deportivo.\",\n",
    "    \"Pantalón chino\": \"Pantalones de algodón ligeros, ideales para un look semi-formal o casual.\",\n",
    "    \"Pantalón cargo\": \"Pantalones con bolsillos grandes en los laterales, ideales para un estilo cómodo y funcional.\",\n",
    "    \"Pantalón de traje\": \"Pantalones formales, típicos de los trajes, ideales para eventos elegantes.\",\n",
    "    \"Shorts\": \"Pantalones cortos, perfectos para climas cálidos y para un look más relajado.\",\n",
    "    \"Pantalón cortado\": \"Pantalones con un corte en el tobillo, ideales para un estilo moderno y juvenil.\",\n",
    "    \"Pantalón de pijama\": \"Pantalones cómodos, generalmente de algodón, usados para descansar o dormir.\",\n",
    "    \"Pantalón deportivo\": \"Pantalones hechos de materiales sintéticos, ideales para actividades físicas o para un look casual.\"\n",
    "}\n"
   ]
  }
 ],
 "metadata": {
  "language_info": {
   "name": "python"
  }
 },
 "nbformat": 4,
 "nbformat_minor": 2
}
