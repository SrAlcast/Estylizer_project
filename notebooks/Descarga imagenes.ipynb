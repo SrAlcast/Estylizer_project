{
 "cells": [
  {
   "cell_type": "code",
   "execution_count": 2,
   "metadata": {},
   "outputs": [
    {
     "name": "stderr",
     "output_type": "stream",
     "text": [
      "Descargando imágenes: 0it [00:00, ?it/s]"
     ]
    },
    {
     "name": "stderr",
     "output_type": "stream",
     "text": [
      "Descargando imágenes: 164it [00:27,  5.96it/s]\n"
     ]
    }
   ],
   "source": [
    "import os\n",
    "import pandas as pd\n",
    "import requests\n",
    "from tqdm import tqdm\n",
    "from urllib.parse import quote\n",
    "\n",
    "# Leer el archivo CSV\n",
    "df = pd.read_csv(\"../results/Modelos_enteros.csv\")\n",
    "\n",
    "# Configuración de carpetas\n",
    "output_folder = '../imagenes/imagenes_modelo'  # Carpeta donde se guardarán las imágenes\n",
    "columna_urls = 'image1_url'      # Columna con las URLs de las imágenes\n",
    "\n",
    "# Crear carpeta si no existe\n",
    "os.makedirs(output_folder, exist_ok=True)\n",
    "\n",
    "# Iterar sobre las URLs\n",
    "for index, url in tqdm(df[columna_urls].items(), desc=\"Descargando imágenes\"):\n",
    "    if pd.isna(url) or not isinstance(url, str):\n",
    "        print(f\"URL inválida en la fila {index}\")\n",
    "        continue\n",
    "\n",
    "    # Codificar la URL correctamente\n",
    "    url = quote(url, safe=\":/?&=\")\n",
    "    try:\n",
    "        # Agregar encabezados para evitar bloqueos\n",
    "        headers = {\n",
    "            'User-Agent': 'Mozilla/5.0 (Windows NT 10.0; Win64; x64) AppleWebKit/537.36 (KHTML, like Gecko) Chrome/91.0.4472.124 Safari/537.36'\n",
    "        }\n",
    "        response = requests.get(url, headers=headers, stream=True, timeout=10)\n",
    "        if response.status_code == 200:\n",
    "            # Guardar la imagen con un nombre único\n",
    "            file_name = os.path.join(output_folder, f\"imagen_{index}.jpg\")\n",
    "            with open(file_name, 'wb') as file:\n",
    "                for chunk in response.iter_content(1024):\n",
    "                    file.write(chunk)\n",
    "        else:\n",
    "            print(f\"Error {response.status_code} al descargar la imagen en la fila {index}: {url}\")\n",
    "    except requests.exceptions.RequestException as e:\n",
    "        print(f\"Error al descargar la imagen en la fila {index}: {url} -> {e}\")\n"
   ]
  }
 ],
 "metadata": {
  "kernelspec": {
   "display_name": "Python 3",
   "language": "python",
   "name": "python3"
  },
  "language_info": {
   "codemirror_mode": {
    "name": "ipython",
    "version": 3
   },
   "file_extension": ".py",
   "mimetype": "text/x-python",
   "name": "python",
   "nbconvert_exporter": "python",
   "pygments_lexer": "ipython3",
   "version": "3.12.8"
  }
 },
 "nbformat": 4,
 "nbformat_minor": 2
}
