{
 "cells": [
  {
   "cell_type": "code",
   "execution_count": 3,
   "metadata": {},
   "outputs": [
    {
     "name": "stdout",
     "output_type": "stream",
     "text": [
      "The autoreload extension is already loaded. To reload it, use:\n",
      "  %reload_ext autoreload\n"
     ]
    }
   ],
   "source": [
    "import pandas as pd\n",
    "from concurrent.futures import ThreadPoolExecutor\n",
    "from tqdm import tqdm\n",
    "%load_ext autoreload\n",
    "%autoreload 2\n",
    "import sys\n",
    "# Añadimos la carpeta que contiene nuestro .py al path de Python\n",
    "sys.path.append(\"../src/\")\n",
    "import support_scrap as ss"
   ]
  },
  {
   "cell_type": "code",
   "execution_count": null,
   "metadata": {},
   "outputs": [],
   "source": [
    "from dotenv import load_dotenv\n",
    "import os\n",
    "\n",
    "# Cargar las variables del archivo .env\n",
    "load_dotenv()\n",
    "\n",
    "# Leer las variables de entorno\n",
    "db_user = os.getenv()"
   ]
  },
  {
   "cell_type": "code",
   "execution_count": 4,
   "metadata": {},
   "outputs": [
    {
     "name": "stdout",
     "output_type": "stream",
     "text": [
      "(656, 18)\n"
     ]
    },
    {
     "data": {
      "text/html": [
       "<div>\n",
       "<style scoped>\n",
       "    .dataframe tbody tr th:only-of-type {\n",
       "        vertical-align: middle;\n",
       "    }\n",
       "\n",
       "    .dataframe tbody tr th {\n",
       "        vertical-align: top;\n",
       "    }\n",
       "\n",
       "    .dataframe thead th {\n",
       "        text-align: right;\n",
       "    }\n",
       "</style>\n",
       "<table border=\"1\" class=\"dataframe\">\n",
       "  <thead>\n",
       "    <tr style=\"text-align: right;\">\n",
       "      <th></th>\n",
       "      <th>product_name</th>\n",
       "      <th>url</th>\n",
       "      <th>image1_url</th>\n",
       "      <th>image2_url</th>\n",
       "      <th>product_price</th>\n",
       "      <th>description</th>\n",
       "      <th>sale_price</th>\n",
       "      <th>old_price</th>\n",
       "      <th>original_price</th>\n",
       "      <th>current_price</th>\n",
       "      <th>color</th>\n",
       "      <th>image_url</th>\n",
       "      <th>mpn</th>\n",
       "      <th>reference_code</th>\n",
       "      <th>category_id</th>\n",
       "      <th>Stock Status</th>\n",
       "      <th>color_homogeneizado</th>\n",
       "      <th>Categoria</th>\n",
       "    </tr>\n",
       "  </thead>\n",
       "  <tbody>\n",
       "    <tr>\n",
       "      <th>0</th>\n",
       "      <td>Camiseta Sakamoto Store</td>\n",
       "      <td>https://www.pullandbear.com/es/camiseta-sakamo...</td>\n",
       "      <td>https://static.pullandbear.net/assets/public/8...</td>\n",
       "      <td>https://static.pullandbear.net/assets/public/c...</td>\n",
       "      <td>17.99</td>\n",
       "      <td>Camiseta blanca licencia Sakamoto con gráfico,...</td>\n",
       "      <td>NaN</td>\n",
       "      <td>NaN</td>\n",
       "      <td>NaN</td>\n",
       "      <td>17.99</td>\n",
       "      <td>Blanco roto</td>\n",
       "      <td>https://static.pullandbear.net/assets/public/0...</td>\n",
       "      <td>3245/539</td>\n",
       "      <td>3245539.0</td>\n",
       "      <td>1.030140e+09</td>\n",
       "      <td>In stock</td>\n",
       "      <td>Blanco</td>\n",
       "      <td>Camiseta</td>\n",
       "    </tr>\n",
       "    <tr>\n",
       "      <th>1</th>\n",
       "      <td>Camiseta negra Mona Lisa</td>\n",
       "      <td>https://www.pullandbear.com/es/camiseta-negra-...</td>\n",
       "      <td>https://static.pullandbear.net/assets/public/a...</td>\n",
       "      <td>https://static.pullandbear.net/assets/public/0...</td>\n",
       "      <td>15.99</td>\n",
       "      <td>Camiseta negra de manga corta con gráfico en l...</td>\n",
       "      <td>NaN</td>\n",
       "      <td>NaN</td>\n",
       "      <td>NaN</td>\n",
       "      <td>15.99</td>\n",
       "      <td>Negro</td>\n",
       "      <td>https://static.pullandbear.net/assets/public/2...</td>\n",
       "      <td>3245/929</td>\n",
       "      <td>3245929.0</td>\n",
       "      <td>1.030140e+09</td>\n",
       "      <td>In stock</td>\n",
       "      <td>Negro</td>\n",
       "      <td>Camiseta</td>\n",
       "    </tr>\n",
       "    <tr>\n",
       "      <th>2</th>\n",
       "      <td>Camiseta Peanuts blanca</td>\n",
       "      <td>https://www.pullandbear.com/es/camiseta-peanut...</td>\n",
       "      <td>https://static.pullandbear.net/assets/public/7...</td>\n",
       "      <td>https://static.pullandbear.net/assets/public/d...</td>\n",
       "      <td>15.99</td>\n",
       "      <td>Camiseta licencia Peanuts de color blanco con ...</td>\n",
       "      <td>NaN</td>\n",
       "      <td>NaN</td>\n",
       "      <td>NaN</td>\n",
       "      <td>15.99</td>\n",
       "      <td>Blanco roto</td>\n",
       "      <td>https://static.pullandbear.net/assets/public/3...</td>\n",
       "      <td>3245/567</td>\n",
       "      <td>3245567.0</td>\n",
       "      <td>1.030140e+09</td>\n",
       "      <td>In stock</td>\n",
       "      <td>Blanco</td>\n",
       "      <td>Camiseta</td>\n",
       "    </tr>\n",
       "    <tr>\n",
       "      <th>3</th>\n",
       "      <td>Polo Peanuts rayas</td>\n",
       "      <td>https://www.pullandbear.com/es/polo-peanuts-ra...</td>\n",
       "      <td>https://static.pullandbear.net/assets/public/0...</td>\n",
       "      <td>https://static.pullandbear.net/assets/public/b...</td>\n",
       "      <td>22.99</td>\n",
       "      <td>Polo licencia Peanuts con diseño a rayas, de m...</td>\n",
       "      <td>NaN</td>\n",
       "      <td>NaN</td>\n",
       "      <td>NaN</td>\n",
       "      <td>22.99</td>\n",
       "      <td>Rayas</td>\n",
       "      <td>https://static.pullandbear.net/assets/public/5...</td>\n",
       "      <td>3245/565</td>\n",
       "      <td>3245565.0</td>\n",
       "      <td>1.030140e+09</td>\n",
       "      <td>In stock</td>\n",
       "      <td>Multicolor</td>\n",
       "      <td>Polo</td>\n",
       "    </tr>\n",
       "    <tr>\n",
       "      <th>4</th>\n",
       "      <td>Camiseta Peanuts verde</td>\n",
       "      <td>https://www.pullandbear.com/es/camiseta-peanut...</td>\n",
       "      <td>https://static.pullandbear.net/assets/public/3...</td>\n",
       "      <td>https://static.pullandbear.net/assets/public/4...</td>\n",
       "      <td>15.99</td>\n",
       "      <td>Camiseta licencia Peanuts de color verde con g...</td>\n",
       "      <td>NaN</td>\n",
       "      <td>NaN</td>\n",
       "      <td>NaN</td>\n",
       "      <td>15.99</td>\n",
       "      <td>Verde</td>\n",
       "      <td>https://static.pullandbear.net/assets/public/2...</td>\n",
       "      <td>3245/566</td>\n",
       "      <td>3245566.0</td>\n",
       "      <td>1.030140e+09</td>\n",
       "      <td>In stock</td>\n",
       "      <td>Verde</td>\n",
       "      <td>Camiseta</td>\n",
       "    </tr>\n",
       "  </tbody>\n",
       "</table>\n",
       "</div>"
      ],
      "text/plain": [
       "               product_name  \\\n",
       "0   Camiseta Sakamoto Store   \n",
       "1  Camiseta negra Mona Lisa   \n",
       "2   Camiseta Peanuts blanca   \n",
       "3        Polo Peanuts rayas   \n",
       "4    Camiseta Peanuts verde   \n",
       "\n",
       "                                                 url  \\\n",
       "0  https://www.pullandbear.com/es/camiseta-sakamo...   \n",
       "1  https://www.pullandbear.com/es/camiseta-negra-...   \n",
       "2  https://www.pullandbear.com/es/camiseta-peanut...   \n",
       "3  https://www.pullandbear.com/es/polo-peanuts-ra...   \n",
       "4  https://www.pullandbear.com/es/camiseta-peanut...   \n",
       "\n",
       "                                          image1_url  \\\n",
       "0  https://static.pullandbear.net/assets/public/8...   \n",
       "1  https://static.pullandbear.net/assets/public/a...   \n",
       "2  https://static.pullandbear.net/assets/public/7...   \n",
       "3  https://static.pullandbear.net/assets/public/0...   \n",
       "4  https://static.pullandbear.net/assets/public/3...   \n",
       "\n",
       "                                          image2_url  product_price  \\\n",
       "0  https://static.pullandbear.net/assets/public/c...          17.99   \n",
       "1  https://static.pullandbear.net/assets/public/0...          15.99   \n",
       "2  https://static.pullandbear.net/assets/public/d...          15.99   \n",
       "3  https://static.pullandbear.net/assets/public/b...          22.99   \n",
       "4  https://static.pullandbear.net/assets/public/4...          15.99   \n",
       "\n",
       "                                         description  sale_price  old_price  \\\n",
       "0  Camiseta blanca licencia Sakamoto con gráfico,...         NaN        NaN   \n",
       "1  Camiseta negra de manga corta con gráfico en l...         NaN        NaN   \n",
       "2  Camiseta licencia Peanuts de color blanco con ...         NaN        NaN   \n",
       "3  Polo licencia Peanuts con diseño a rayas, de m...         NaN        NaN   \n",
       "4  Camiseta licencia Peanuts de color verde con g...         NaN        NaN   \n",
       "\n",
       "   original_price  current_price        color  \\\n",
       "0             NaN          17.99  Blanco roto   \n",
       "1             NaN          15.99        Negro   \n",
       "2             NaN          15.99  Blanco roto   \n",
       "3             NaN          22.99        Rayas   \n",
       "4             NaN          15.99        Verde   \n",
       "\n",
       "                                           image_url       mpn  \\\n",
       "0  https://static.pullandbear.net/assets/public/0...  3245/539   \n",
       "1  https://static.pullandbear.net/assets/public/2...  3245/929   \n",
       "2  https://static.pullandbear.net/assets/public/3...  3245/567   \n",
       "3  https://static.pullandbear.net/assets/public/5...  3245/565   \n",
       "4  https://static.pullandbear.net/assets/public/2...  3245/566   \n",
       "\n",
       "   reference_code   category_id Stock Status color_homogeneizado Categoria  \n",
       "0       3245539.0  1.030140e+09     In stock              Blanco  Camiseta  \n",
       "1       3245929.0  1.030140e+09     In stock               Negro  Camiseta  \n",
       "2       3245567.0  1.030140e+09     In stock              Blanco  Camiseta  \n",
       "3       3245565.0  1.030140e+09     In stock          Multicolor      Polo  \n",
       "4       3245566.0  1.030140e+09     In stock               Verde  Camiseta  "
      ]
     },
     "execution_count": 4,
     "metadata": {},
     "output_type": "execute_result"
    }
   ],
   "source": [
    "# Leer el archivo CSV\n",
    "df_base = pd.read_csv(\"../results/all_products_info_with_categories.csv\")\n",
    "\n",
    "print(df_base.shape)\n",
    "\n",
    "# Mostrar las primeras filas del DataFrame\n",
    "df_base.head()"
   ]
  },
  {
   "cell_type": "code",
   "execution_count": 5,
   "metadata": {},
   "outputs": [
    {
     "name": "stderr",
     "output_type": "stream",
     "text": [
      "  0%|          | 0/12 [00:00<?, ?it/s]"
     ]
    },
    {
     "name": "stdout",
     "output_type": "stream",
     "text": [
      "Cookies aceptadas\n"
     ]
    },
    {
     "name": "stderr",
     "output_type": "stream",
     "text": [
      "  8%|▊         | 1/12 [00:33<06:13, 33.91s/it]"
     ]
    },
    {
     "name": "stdout",
     "output_type": "stream",
     "text": [
      "Se han encontrado 149 productos en https://www.pullandbear.com/es/hombre/ropa/camisetas-n6323\n",
      "No se encontró el botón de cookies o ya estaban aceptadas\n"
     ]
    },
    {
     "name": "stderr",
     "output_type": "stream",
     "text": [
      " 17%|█▋        | 2/12 [00:48<03:44, 22.47s/it]"
     ]
    },
    {
     "name": "stdout",
     "output_type": "stream",
     "text": [
      "Se han encontrado 46 productos en https://www.pullandbear.com/es/hombre/rebajas/ropa/camisetas-y-polos-n7087\n",
      "No se encontró el botón de cookies o ya estaban aceptadas\n"
     ]
    },
    {
     "name": "stderr",
     "output_type": "stream",
     "text": [
      " 25%|██▌       | 3/12 [01:04<02:58, 19.79s/it]"
     ]
    },
    {
     "name": "stdout",
     "output_type": "stream",
     "text": [
      "Se han encontrado 60 productos en https://www.pullandbear.com/es/hombre/ropa/camisas-n6313\n",
      "No se encontró el botón de cookies o ya estaban aceptadas\n"
     ]
    },
    {
     "name": "stderr",
     "output_type": "stream",
     "text": [
      " 33%|███▎      | 4/12 [01:19<02:22, 17.83s/it]"
     ]
    },
    {
     "name": "stdout",
     "output_type": "stream",
     "text": [
      "Se han encontrado 45 productos en https://www.pullandbear.com/es/hombre/rebajas/ropa/camisas-n7088\n",
      "No se encontró el botón de cookies o ya estaban aceptadas\n"
     ]
    },
    {
     "name": "stderr",
     "output_type": "stream",
     "text": [
      " 42%|████▏     | 5/12 [01:32<01:51, 15.93s/it]"
     ]
    },
    {
     "name": "stdout",
     "output_type": "stream",
     "text": [
      "Se han encontrado 40 productos en https://www.pullandbear.com/es/hombre/ropa/punto-n6372\n",
      "No se encontró el botón de cookies o ya estaban aceptadas\n"
     ]
    },
    {
     "name": "stderr",
     "output_type": "stream",
     "text": [
      " 50%|█████     | 6/12 [01:41<01:21, 13.66s/it]"
     ]
    },
    {
     "name": "stdout",
     "output_type": "stream",
     "text": [
      "Se han encontrado 18 productos en https://www.pullandbear.com/es/hombre/rebajas/ropa/punto-n7090\n",
      "No se encontró el botón de cookies o ya estaban aceptadas\n"
     ]
    },
    {
     "name": "stderr",
     "output_type": "stream",
     "text": [
      " 58%|█████▊    | 7/12 [02:16<01:43, 20.64s/it]"
     ]
    },
    {
     "name": "stdout",
     "output_type": "stream",
     "text": [
      "Se han encontrado 161 productos en https://www.pullandbear.com/es/hombre/ropa/sudaderas-n6382\n",
      "No se encontró el botón de cookies o ya estaban aceptadas\n"
     ]
    },
    {
     "name": "stderr",
     "output_type": "stream",
     "text": [
      " 67%|██████▋   | 8/12 [02:26<01:08, 17.21s/it]"
     ]
    },
    {
     "name": "stdout",
     "output_type": "stream",
     "text": [
      "Se han encontrado 22 productos en https://www.pullandbear.com/es/hombre/rebajas/ropa/sudaderas-n7089\n",
      "No se encontró el botón de cookies o ya estaban aceptadas\n"
     ]
    },
    {
     "name": "stderr",
     "output_type": "stream",
     "text": [
      " 75%|███████▌  | 9/12 [02:45<00:53, 17.82s/it]"
     ]
    },
    {
     "name": "stdout",
     "output_type": "stream",
     "text": [
      "Se han encontrado 74 productos en https://www.pullandbear.com/es/hombre/ropa/pantalones-n6363\n",
      "No se encontró el botón de cookies o ya estaban aceptadas\n"
     ]
    },
    {
     "name": "stderr",
     "output_type": "stream",
     "text": [
      " 83%|████████▎ | 10/12 [02:56<00:31, 15.67s/it]"
     ]
    },
    {
     "name": "stdout",
     "output_type": "stream",
     "text": [
      "Se han encontrado 27 productos en https://www.pullandbear.com/es/hombre/rebajas/ropa/pantalones-n7091\n",
      "No se encontró el botón de cookies o ya estaban aceptadas\n"
     ]
    },
    {
     "name": "stderr",
     "output_type": "stream",
     "text": [
      " 92%|█████████▏| 11/12 [03:19<00:17, 17.91s/it]"
     ]
    },
    {
     "name": "stdout",
     "output_type": "stream",
     "text": [
      "Se han encontrado 96 productos en https://www.pullandbear.com/es/hombre/ropa/jeans-n6347\n",
      "No se encontró el botón de cookies o ya estaban aceptadas\n"
     ]
    },
    {
     "name": "stderr",
     "output_type": "stream",
     "text": [
      "100%|██████████| 12/12 [03:29<00:00, 17.47s/it]"
     ]
    },
    {
     "name": "stdout",
     "output_type": "stream",
     "text": [
      "Se han encontrado 25 productos en https://www.pullandbear.com/es/hombre/rebajas/ropa/jeans-n7818\n"
     ]
    },
    {
     "name": "stderr",
     "output_type": "stream",
     "text": [
      "\n"
     ]
    },
    {
     "name": "stdout",
     "output_type": "stream",
     "text": [
      "Articulos base:\n",
      "(656, 18)\n",
      "Articulos actuales:\n",
      "(763, 5)\n"
     ]
    },
    {
     "data": {
      "text/html": [
       "<div>\n",
       "<style scoped>\n",
       "    .dataframe tbody tr th:only-of-type {\n",
       "        vertical-align: middle;\n",
       "    }\n",
       "\n",
       "    .dataframe tbody tr th {\n",
       "        vertical-align: top;\n",
       "    }\n",
       "\n",
       "    .dataframe thead th {\n",
       "        text-align: right;\n",
       "    }\n",
       "</style>\n",
       "<table border=\"1\" class=\"dataframe\">\n",
       "  <thead>\n",
       "    <tr style=\"text-align: right;\">\n",
       "      <th></th>\n",
       "      <th>product_name</th>\n",
       "      <th>url</th>\n",
       "      <th>image1_url</th>\n",
       "      <th>image2_url</th>\n",
       "      <th>product_price</th>\n",
       "    </tr>\n",
       "  </thead>\n",
       "  <tbody>\n",
       "    <tr>\n",
       "      <th>0</th>\n",
       "      <td>Camiseta Sakamoto Store</td>\n",
       "      <td>https://www.pullandbear.com/es/camiseta-sakamo...</td>\n",
       "      <td>https://static.pullandbear.net/assets/public/8...</td>\n",
       "      <td>https://static.pullandbear.net/assets/public/c...</td>\n",
       "      <td>17.99</td>\n",
       "    </tr>\n",
       "    <tr>\n",
       "      <th>1</th>\n",
       "      <td>Camiseta negra Mona Lisa</td>\n",
       "      <td>https://www.pullandbear.com/es/camiseta-negra-...</td>\n",
       "      <td>https://static.pullandbear.net/assets/public/a...</td>\n",
       "      <td>https://static.pullandbear.net/assets/public/0...</td>\n",
       "      <td>15.99</td>\n",
       "    </tr>\n",
       "    <tr>\n",
       "      <th>2</th>\n",
       "      <td>Camiseta Peanuts blanca</td>\n",
       "      <td>https://www.pullandbear.com/es/camiseta-peanut...</td>\n",
       "      <td>https://static.pullandbear.net/assets/public/7...</td>\n",
       "      <td>https://static.pullandbear.net/assets/public/d...</td>\n",
       "      <td>15.99</td>\n",
       "    </tr>\n",
       "    <tr>\n",
       "      <th>3</th>\n",
       "      <td>Polo Peanuts rayas</td>\n",
       "      <td>https://www.pullandbear.com/es/polo-peanuts-ra...</td>\n",
       "      <td>https://static.pullandbear.net/assets/public/0...</td>\n",
       "      <td>https://static.pullandbear.net/assets/public/b...</td>\n",
       "      <td>22.99</td>\n",
       "    </tr>\n",
       "    <tr>\n",
       "      <th>4</th>\n",
       "      <td>Camiseta Peanuts verde</td>\n",
       "      <td>https://www.pullandbear.com/es/camiseta-peanut...</td>\n",
       "      <td>https://static.pullandbear.net/assets/public/3...</td>\n",
       "      <td>https://static.pullandbear.net/assets/public/4...</td>\n",
       "      <td>15.99</td>\n",
       "    </tr>\n",
       "  </tbody>\n",
       "</table>\n",
       "</div>"
      ],
      "text/plain": [
       "               product_name  \\\n",
       "0   Camiseta Sakamoto Store   \n",
       "1  Camiseta negra Mona Lisa   \n",
       "2   Camiseta Peanuts blanca   \n",
       "3        Polo Peanuts rayas   \n",
       "4    Camiseta Peanuts verde   \n",
       "\n",
       "                                                 url  \\\n",
       "0  https://www.pullandbear.com/es/camiseta-sakamo...   \n",
       "1  https://www.pullandbear.com/es/camiseta-negra-...   \n",
       "2  https://www.pullandbear.com/es/camiseta-peanut...   \n",
       "3  https://www.pullandbear.com/es/polo-peanuts-ra...   \n",
       "4  https://www.pullandbear.com/es/camiseta-peanut...   \n",
       "\n",
       "                                          image1_url  \\\n",
       "0  https://static.pullandbear.net/assets/public/8...   \n",
       "1  https://static.pullandbear.net/assets/public/a...   \n",
       "2  https://static.pullandbear.net/assets/public/7...   \n",
       "3  https://static.pullandbear.net/assets/public/0...   \n",
       "4  https://static.pullandbear.net/assets/public/3...   \n",
       "\n",
       "                                          image2_url  product_price  \n",
       "0  https://static.pullandbear.net/assets/public/c...          17.99  \n",
       "1  https://static.pullandbear.net/assets/public/0...          15.99  \n",
       "2  https://static.pullandbear.net/assets/public/d...          15.99  \n",
       "3  https://static.pullandbear.net/assets/public/b...          22.99  \n",
       "4  https://static.pullandbear.net/assets/public/4...          15.99  "
      ]
     },
     "execution_count": 5,
     "metadata": {},
     "output_type": "execute_result"
    }
   ],
   "source": [
    "# URLs a procesar\n",
    "listaurl = [\n",
    "    \"https://www.pullandbear.com/es/hombre/ropa/camisetas-n6323\",\n",
    "    \"https://www.pullandbear.com/es/hombre/rebajas/ropa/camisetas-y-polos-n7087\",\n",
    "    \"https://www.pullandbear.com/es/hombre/ropa/camisas-n6313\",\n",
    "    \"https://www.pullandbear.com/es/hombre/rebajas/ropa/camisas-n7088\",\n",
    "    \"https://www.pullandbear.com/es/hombre/ropa/punto-n6372\",\n",
    "    \"https://www.pullandbear.com/es/hombre/rebajas/ropa/punto-n7090\",\n",
    "    \"https://www.pullandbear.com/es/hombre/ropa/sudaderas-n6382\",\n",
    "    \"https://www.pullandbear.com/es/hombre/rebajas/ropa/sudaderas-n7089\",\n",
    "    \"https://www.pullandbear.com/es/hombre/ropa/pantalones-n6363\",\n",
    "    \"https://www.pullandbear.com/es/hombre/rebajas/ropa/pantalones-n7091\",\n",
    "    \"https://www.pullandbear.com/es/hombre/ropa/jeans-n6347\",\n",
    "    \"https://www.pullandbear.com/es/hombre/rebajas/ropa/jeans-n7818\"\n",
    "]\n",
    "\n",
    "df_nuevo = ss.process_and_extract_data_main(listaurl)\n",
    "\n",
    "# Mostrar articulos antes y despues\n",
    "print(\"Articulos base:\")\n",
    "print(df_base.shape)\n",
    "print(\"Articulos actuales:\")\n",
    "print(df_nuevo.shape)\n",
    "\n",
    "# Mostrar el DataFrame\n",
    "df_nuevo.head()\n"
   ]
  },
  {
   "cell_type": "markdown",
   "metadata": {},
   "source": [
    "### COMPROBACIÓN DE ESTADO CON LA BASE"
   ]
  },
  {
   "cell_type": "code",
   "execution_count": 6,
   "metadata": {},
   "outputs": [
    {
     "name": "stdout",
     "output_type": "stream",
     "text": [
      "Nuevas URLs en df_nuevo que no están en df_base:\n",
      "18\n",
      "\n",
      "URLs en df_base que no están en df_nuevo (out of stock):\n",
      "107\n"
     ]
    }
   ],
   "source": [
    "# Añadir la columna de stock al df_base\n",
    "# Si la URL está en df_nuevo, significa que está en stock; de lo contrario, no lo está\n",
    "df_base['Stock Status'] = df_base['url'].apply(\n",
    "    lambda x: 'In Stock' if x in df_nuevo['url'].values else 'Out of Stock')\n",
    "\n",
    "# Actualizar los precios en df_base si el precio en df_nuevo es diferente\n",
    "for index, row in df_base.iterrows():\n",
    "    if row['url'] in df_nuevo['url'].values:\n",
    "        # Tomar el precio de df_nuevo (current_price)\n",
    "        nuevo_precio = df_nuevo.loc[df_nuevo['url'] == row['url'], 'product_price'].values[0]\n",
    "        \n",
    "        # Comparar con el precio actual en df_base (product_price)\n",
    "        if row['product_price'] != nuevo_precio:\n",
    "            df_base.at[index, 'product_price'] = nuevo_precio\n",
    "\n",
    "# Nuevas URLs en df_nuevo que no están en df_base\n",
    "new_urls = df_nuevo[~df_nuevo['url'].isin(df_base['url'])]\n",
    "\n",
    "# URLs en df_base que no están en df_nuevo (para marcar como \"out of stock\")\n",
    "out_of_stock_urls = df_base[~df_base['url'].isin(df_nuevo['url'])]\n",
    "\n",
    "# Guardar los resultados en CSV\n",
    "new_urls.to_csv('../results/new_urls.csv', index=False)\n",
    "out_of_stock_urls.to_csv('../results/out_of_stock_urls.csv', index=False)\n",
    "\n",
    "# Mostrar los resultados\n",
    "print(\"Nuevas URLs en df_nuevo que no están en df_base:\")\n",
    "print(len(new_urls))\n",
    "print(\"\\nURLs en df_base que no están en df_nuevo (out of stock):\")\n",
    "print(len(out_of_stock_urls))"
   ]
  },
  {
   "cell_type": "markdown",
   "metadata": {},
   "source": [
    "### Scrapeo de las nuevas urls"
   ]
  },
  {
   "cell_type": "code",
   "execution_count": 7,
   "metadata": {},
   "outputs": [
    {
     "name": "stderr",
     "output_type": "stream",
     "text": [
      " 11%|█         | 2/18 [00:09<01:18,  4.89s/it]"
     ]
    },
    {
     "name": "stdout",
     "output_type": "stream",
     "text": [
      "Error procesando la URL https://www.pullandbear.com/es/camiseta-ford-bronco-l03245529?cS=251&pelement=662020842: Message: \n",
      "Stacktrace:\n",
      "\tGetHandleVerifier [0x005774A3+25091]\n",
      "\t(No symbol) [0x004FDC04]\n",
      "\t(No symbol) [0x003DB373]\n",
      "\t(No symbol) [0x0041F4DC]\n",
      "\t(No symbol) [0x0041F65B]\n",
      "\t(No symbol) [0x0045D8E2]\n",
      "\t(No symbol) [0x00441F54]\n",
      "\t(No symbol) [0x0045B49E]\n",
      "\t(No symbol) [0x00441CA6]\n",
      "\t(No symbol) [0x004131D5]\n",
      "\t(No symbol) [0x0041435D]\n",
      "\tGetHandleVerifier [0x008707C3+3142947]\n",
      "\tGetHandleVerifier [0x00881A2B+3213195]\n",
      "\tGetHandleVerifier [0x0087C412+3191154]\n",
      "\tGetHandleVerifier [0x00618720+685184]\n",
      "\t(No symbol) [0x00506E1D]\n",
      "\t(No symbol) [0x00503E18]\n",
      "\t(No symbol) [0x00503FB6]\n",
      "\t(No symbol) [0x004F66F0]\n",
      "\tBaseThreadInitThunk [0x769A7BA9+25]\n",
      "\tRtlInitializeExceptionChain [0x77CEC0CB+107]\n",
      "\tRtlClearBits [0x77CEC04F+191]\n",
      "\n"
     ]
    },
    {
     "name": "stderr",
     "output_type": "stream",
     "text": [
      "100%|██████████| 18/18 [00:47<00:00,  2.64s/it]\n"
     ]
    },
    {
     "name": "stdout",
     "output_type": "stream",
     "text": [
      "Articulos de tras actualización:\n",
      "(694, 18)\n",
      "Se guardaron 27 filas descartadas en 'descartes.csv'.\n",
      "Articulos sin duplicados:\n",
      "(667, 18)\n"
     ]
    }
   ],
   "source": [
    "# Ejecutamos la funcion de scrapeo de productos\n",
    "df_results=ss.process_urls_products(new_urls)\n",
    "\n",
    "# Unir los DataFrames utilizando la columna 'url'\n",
    "df_results=pd.merge(df_results,new_urls,on='url', how='inner')\n",
    "df_successful = pd.concat([df_base, df_results], axis=0, ignore_index=True)\n",
    "\n",
    "# Columnas clave para identificar duplicados\n",
    "columnas_clave = ['product_price','description','current_price','color','image_url','mpn','reference_code','category_id']\n",
    "\n",
    "# Crear un DataFrame con los duplicados eliminados\n",
    "df_sin_duplicados = df_successful.drop_duplicates(subset=columnas_clave, keep='first')\n",
    "\n",
    "# Identificar las filas descartadas como la diferencia entre los originales y los sin duplicados\n",
    "descartes = df_successful.loc[~df_successful.index.isin(df_sin_duplicados.index)]\n",
    "\n",
    "# Guardar los descartes en un archivo CSV\n",
    "descartes.to_csv('../results/articulos_descartados.csv', index=False)\n",
    "\n",
    "# Mostrar resultados\n",
    "print(\"Articulos de tras actualización:\")\n",
    "print(df_successful.shape)\n",
    "print(f\"Se guardaron {len(descartes)} filas descartadas en 'descartes.csv'.\")\n",
    "print(\"Articulos sin duplicados:\")\n",
    "print(df_sin_duplicados.shape)"
   ]
  },
  {
   "cell_type": "markdown",
   "metadata": {},
   "source": [
    "# HOMOGENEIZAR LOS DATOS"
   ]
  },
  {
   "cell_type": "markdown",
   "metadata": {},
   "source": [
    "### COLOR"
   ]
  },
  {
   "cell_type": "code",
   "execution_count": 8,
   "metadata": {},
   "outputs": [
    {
     "name": "stderr",
     "output_type": "stream",
     "text": [
      "C:\\Users\\alexc\\AppData\\Local\\Temp\\ipykernel_1432\\3346448002.py:2: SettingWithCopyWarning: \n",
      "A value is trying to be set on a copy of a slice from a DataFrame.\n",
      "Try using .loc[row_indexer,col_indexer] = value instead\n",
      "\n",
      "See the caveats in the documentation: https://pandas.pydata.org/pandas-docs/stable/user_guide/indexing.html#returning-a-view-versus-a-copy\n",
      "  df_sin_duplicados['color_homogeneizado'] = df_sin_duplicados['color'].apply(ss.homogeneizar_color)\n"
     ]
    }
   ],
   "source": [
    "# Crear una nueva columna con el color homogeneizado\n",
    "df_sin_duplicados['color_homogeneizado'] = df_sin_duplicados['color'].apply(ss.homogeneizar_color)"
   ]
  },
  {
   "cell_type": "markdown",
   "metadata": {},
   "source": [
    "### CATEGORÍA"
   ]
  },
  {
   "cell_type": "code",
   "execution_count": 10,
   "metadata": {},
   "outputs": [
    {
     "name": "stderr",
     "output_type": "stream",
     "text": [
      "C:\\Users\\alexc\\AppData\\Local\\Temp\\ipykernel_1432\\448092441.py:2: SettingWithCopyWarning: \n",
      "A value is trying to be set on a copy of a slice from a DataFrame.\n",
      "Try using .loc[row_indexer,col_indexer] = value instead\n",
      "\n",
      "See the caveats in the documentation: https://pandas.pydata.org/pandas-docs/stable/user_guide/indexing.html#returning-a-view-versus-a-copy\n",
      "  df_sin_duplicados['Categoria'] = df_sin_duplicados['product_name'].apply(ss.categorizar_ropa)\n"
     ]
    },
    {
     "data": {
      "text/html": [
       "<div>\n",
       "<style scoped>\n",
       "    .dataframe tbody tr th:only-of-type {\n",
       "        vertical-align: middle;\n",
       "    }\n",
       "\n",
       "    .dataframe tbody tr th {\n",
       "        vertical-align: top;\n",
       "    }\n",
       "\n",
       "    .dataframe thead th {\n",
       "        text-align: right;\n",
       "    }\n",
       "</style>\n",
       "<table border=\"1\" class=\"dataframe\">\n",
       "  <thead>\n",
       "    <tr style=\"text-align: right;\">\n",
       "      <th></th>\n",
       "      <th>product_name</th>\n",
       "      <th>Categoria</th>\n",
       "    </tr>\n",
       "  </thead>\n",
       "  <tbody>\n",
       "    <tr>\n",
       "      <th>300</th>\n",
       "      <td>Sudadera cuello redondo STWD</td>\n",
       "      <td>Sudadera</td>\n",
       "    </tr>\n",
       "    <tr>\n",
       "      <th>419</th>\n",
       "      <td>Sudadera capucha P&amp;B Black Label</td>\n",
       "      <td>Sudadera</td>\n",
       "    </tr>\n",
       "    <tr>\n",
       "      <th>504</th>\n",
       "      <td>Pantalón chándal</td>\n",
       "      <td>Pantalón</td>\n",
       "    </tr>\n",
       "    <tr>\n",
       "      <th>457</th>\n",
       "      <td>Pantalón jogger punto suave</td>\n",
       "      <td>Pantalón</td>\n",
       "    </tr>\n",
       "    <tr>\n",
       "      <th>420</th>\n",
       "      <td>Sudadera capucha El Grinch</td>\n",
       "      <td>Sudadera</td>\n",
       "    </tr>\n",
       "  </tbody>\n",
       "</table>\n",
       "</div>"
      ],
      "text/plain": [
       "                         product_name Categoria\n",
       "300      Sudadera cuello redondo STWD  Sudadera\n",
       "419  Sudadera capucha P&B Black Label  Sudadera\n",
       "504                  Pantalón chándal  Pantalón\n",
       "457       Pantalón jogger punto suave  Pantalón\n",
       "420        Sudadera capucha El Grinch  Sudadera"
      ]
     },
     "execution_count": 10,
     "metadata": {},
     "output_type": "execute_result"
    }
   ],
   "source": [
    "# Crear una nueva columna con la categoría de la prenda\n",
    "df_sin_duplicados['Categoria'] = df_sin_duplicados['product_name'].apply(ss.categorizar_ropa)\n",
    "\n",
    "# Mostrar las primeras filas para comprobar\n",
    "df_sin_duplicados[['product_name', 'Categoria']].sample(5)\n"
   ]
  },
  {
   "cell_type": "markdown",
   "metadata": {},
   "source": [
    "### CONTROLAR URLs FALTANTES"
   ]
  },
  {
   "cell_type": "code",
   "execution_count": 11,
   "metadata": {},
   "outputs": [],
   "source": [
    "# Asignar \"out of stock\" a la columna 'Stock Status' donde 'image_url' sea vacío o nulo\n",
    "df_sin_duplicados.loc[(df_sin_duplicados['image_url'].isna()) | (df_sin_duplicados['image_url'] == ''), 'Stock Status'] = 'Out of Stock'"
   ]
  },
  {
   "cell_type": "markdown",
   "metadata": {},
   "source": [
    "### GUARDAR CSV"
   ]
  },
  {
   "cell_type": "code",
   "execution_count": 12,
   "metadata": {},
   "outputs": [],
   "source": [
    "# Filtrar los pantalones\n",
    "Modelos_enteros = df_sin_duplicados[(df_sin_duplicados['Categoria'] == 'Pantalón') & (df_sin_duplicados['Stock Status'] == 'In Stock')]  # Cambia 'tipo_prenda' y 'pantalón' si tienen otros nombres\n",
    "\n",
    "# Guardar el nuevo DataFrame con pantalones en un archivo CSV\n",
    "Modelos_enteros.to_csv('../results/Modelos_enteros.csv', index=False)"
   ]
  },
  {
   "cell_type": "code",
   "execution_count": 13,
   "metadata": {},
   "outputs": [],
   "source": [
    "# Guardar los cambios en un archivo nuevo si lo necesitas\n",
    "df_sin_duplicados.to_csv('../results/all_products_info_with_categories.csv', index=False)"
   ]
  }
 ],
 "metadata": {
  "kernelspec": {
   "display_name": "Python 3",
   "language": "python",
   "name": "python3"
  },
  "language_info": {
   "codemirror_mode": {
    "name": "ipython",
    "version": 3
   },
   "file_extension": ".py",
   "mimetype": "text/x-python",
   "name": "python",
   "nbconvert_exporter": "python",
   "pygments_lexer": "ipython3",
   "version": "3.12.8"
  }
 },
 "nbformat": 4,
 "nbformat_minor": 2
}
