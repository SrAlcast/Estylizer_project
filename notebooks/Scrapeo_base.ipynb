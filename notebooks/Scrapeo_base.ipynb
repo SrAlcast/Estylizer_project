{
 "cells": [
  {
   "cell_type": "code",
   "execution_count": 1,
   "metadata": {},
   "outputs": [],
   "source": [
    "import pandas as pd\n",
    "%load_ext autoreload\n",
    "%autoreload 2\n",
    "import sys\n",
    "# Añadimos la carpeta que contiene nuestro .py al path de Python\n",
    "sys.path.append(\"../src/\")\n",
    "import support_scrap as ss"
   ]
  },
  {
   "cell_type": "code",
   "execution_count": null,
   "metadata": {},
   "outputs": [],
   "source": [
    "from dotenv import load_dotenv\n",
    "import os\n",
    "\n",
    "# Cargar las variables del archivo .env\n",
    "load_dotenv()\n",
    "\n",
    "# Leer las variables de entorno\n",
    "db_user = os.getenv()"
   ]
  },
  {
   "cell_type": "code",
   "execution_count": 2,
   "metadata": {},
   "outputs": [
    {
     "name": "stderr",
     "output_type": "stream",
     "text": [
      "  0%|          | 0/12 [00:00<?, ?it/s]"
     ]
    },
    {
     "name": "stdout",
     "output_type": "stream",
     "text": [
      "Cookies aceptadas\n"
     ]
    },
    {
     "name": "stderr",
     "output_type": "stream",
     "text": [
      "  8%|▊         | 1/12 [00:33<06:08, 33.49s/it]"
     ]
    },
    {
     "name": "stdout",
     "output_type": "stream",
     "text": [
      "Se han encontrado 146 productos en https://www.pullandbear.com/es/hombre/ropa/camisetas-n6323\n",
      "No se encontró el botón de cookies o ya estaban aceptadas\n"
     ]
    },
    {
     "name": "stderr",
     "output_type": "stream",
     "text": [
      " 17%|█▋        | 2/12 [00:48<03:46, 22.62s/it]"
     ]
    },
    {
     "name": "stdout",
     "output_type": "stream",
     "text": [
      "Se han encontrado 47 productos en https://www.pullandbear.com/es/hombre/rebajas/ropa/camisetas-y-polos-n7087\n",
      "No se encontró el botón de cookies o ya estaban aceptadas\n"
     ]
    },
    {
     "name": "stderr",
     "output_type": "stream",
     "text": [
      " 25%|██▌       | 3/12 [01:11<03:24, 22.68s/it]"
     ]
    },
    {
     "name": "stdout",
     "output_type": "stream",
     "text": [
      "Se han encontrado 90 productos en https://www.pullandbear.com/es/hombre/ropa/camisas-n6313\n",
      "No se encontró el botón de cookies o ya estaban aceptadas\n"
     ]
    },
    {
     "name": "stderr",
     "output_type": "stream",
     "text": [
      " 33%|███▎      | 4/12 [01:25<02:35, 19.49s/it]"
     ]
    },
    {
     "name": "stdout",
     "output_type": "stream",
     "text": [
      "Se han encontrado 43 productos en https://www.pullandbear.com/es/hombre/rebajas/ropa/camisas-n7088\n",
      "No se encontró el botón de cookies o ya estaban aceptadas\n"
     ]
    },
    {
     "name": "stderr",
     "output_type": "stream",
     "text": [
      " 42%|████▏     | 5/12 [01:40<02:03, 17.62s/it]"
     ]
    },
    {
     "name": "stdout",
     "output_type": "stream",
     "text": [
      "Se han encontrado 45 productos en https://www.pullandbear.com/es/hombre/ropa/punto-n6372\n",
      "No se encontró el botón de cookies o ya estaban aceptadas\n"
     ]
    },
    {
     "name": "stderr",
     "output_type": "stream",
     "text": [
      " 50%|█████     | 6/12 [01:52<01:34, 15.77s/it]"
     ]
    },
    {
     "name": "stdout",
     "output_type": "stream",
     "text": [
      "Se han encontrado 23 productos en https://www.pullandbear.com/es/hombre/rebajas/ropa/punto-n7090\n",
      "No se encontró el botón de cookies o ya estaban aceptadas\n"
     ]
    },
    {
     "name": "stderr",
     "output_type": "stream",
     "text": [
      " 58%|█████▊    | 7/12 [02:27<01:50, 22.06s/it]"
     ]
    },
    {
     "name": "stdout",
     "output_type": "stream",
     "text": [
      "Se han encontrado 167 productos en https://www.pullandbear.com/es/hombre/ropa/sudaderas-n6382\n",
      "No se encontró el botón de cookies o ya estaban aceptadas\n"
     ]
    },
    {
     "name": "stderr",
     "output_type": "stream",
     "text": [
      " 67%|██████▋   | 8/12 [02:43<01:21, 20.28s/it]"
     ]
    },
    {
     "name": "stdout",
     "output_type": "stream",
     "text": [
      "Se han encontrado 50 productos en https://www.pullandbear.com/es/hombre/rebajas/ropa/sudaderas-n7089\n",
      "No se encontró el botón de cookies o ya estaban aceptadas\n"
     ]
    },
    {
     "name": "stderr",
     "output_type": "stream",
     "text": [
      " 75%|███████▌  | 9/12 [03:07<01:03, 21.20s/it]"
     ]
    },
    {
     "name": "stdout",
     "output_type": "stream",
     "text": [
      "Se han encontrado 98 productos en https://www.pullandbear.com/es/hombre/ropa/pantalones-n6363\n",
      "No se encontró el botón de cookies o ya estaban aceptadas\n"
     ]
    },
    {
     "name": "stderr",
     "output_type": "stream",
     "text": [
      " 83%|████████▎ | 10/12 [03:19<00:37, 18.56s/it]"
     ]
    },
    {
     "name": "stdout",
     "output_type": "stream",
     "text": [
      "Se han encontrado 34 productos en https://www.pullandbear.com/es/hombre/rebajas/ropa/pantalones-n7091\n",
      "No se encontró el botón de cookies o ya estaban aceptadas\n"
     ]
    },
    {
     "name": "stderr",
     "output_type": "stream",
     "text": [
      " 92%|█████████▏| 11/12 [03:43<00:20, 20.17s/it]"
     ]
    },
    {
     "name": "stdout",
     "output_type": "stream",
     "text": [
      "Se han encontrado 101 productos en https://www.pullandbear.com/es/hombre/ropa/jeans-n6347\n",
      "No se encontró el botón de cookies o ya estaban aceptadas\n"
     ]
    },
    {
     "name": "stderr",
     "output_type": "stream",
     "text": [
      "100%|██████████| 12/12 [04:00<00:00, 20.06s/it]"
     ]
    },
    {
     "name": "stdout",
     "output_type": "stream",
     "text": [
      "Se han encontrado 66 productos en https://www.pullandbear.com/es/hombre/rebajas/ropa/jeans-n7818\n"
     ]
    },
    {
     "name": "stderr",
     "output_type": "stream",
     "text": [
      "\n"
     ]
    },
    {
     "name": "stdout",
     "output_type": "stream",
     "text": [
      "Articulos actuales:\n",
      "(910, 5)\n"
     ]
    },
    {
     "data": {
      "text/html": [
       "<div>\n",
       "<style scoped>\n",
       "    .dataframe tbody tr th:only-of-type {\n",
       "        vertical-align: middle;\n",
       "    }\n",
       "\n",
       "    .dataframe tbody tr th {\n",
       "        vertical-align: top;\n",
       "    }\n",
       "\n",
       "    .dataframe thead th {\n",
       "        text-align: right;\n",
       "    }\n",
       "</style>\n",
       "<table border=\"1\" class=\"dataframe\">\n",
       "  <thead>\n",
       "    <tr style=\"text-align: right;\">\n",
       "      <th></th>\n",
       "      <th>product_name</th>\n",
       "      <th>url</th>\n",
       "      <th>image1_url</th>\n",
       "      <th>image2_url</th>\n",
       "      <th>product_price</th>\n",
       "    </tr>\n",
       "  </thead>\n",
       "  <tbody>\n",
       "    <tr>\n",
       "      <th>0</th>\n",
       "      <td>Camiseta Sakamoto Store</td>\n",
       "      <td>https://www.pullandbear.com/es/camiseta-sakamo...</td>\n",
       "      <td>https://static.pullandbear.net/assets/public/8...</td>\n",
       "      <td>https://static.pullandbear.net/assets/public/c...</td>\n",
       "      <td>17.99</td>\n",
       "    </tr>\n",
       "    <tr>\n",
       "      <th>1</th>\n",
       "      <td>Camiseta negra Mona Lisa</td>\n",
       "      <td>https://www.pullandbear.com/es/camiseta-negra-...</td>\n",
       "      <td>https://static.pullandbear.net/assets/public/a...</td>\n",
       "      <td>https://static.pullandbear.net/assets/public/0...</td>\n",
       "      <td>15.99</td>\n",
       "    </tr>\n",
       "    <tr>\n",
       "      <th>2</th>\n",
       "      <td>Camiseta Peanuts blanca</td>\n",
       "      <td>https://www.pullandbear.com/es/camiseta-peanut...</td>\n",
       "      <td>https://static.pullandbear.net/assets/public/7...</td>\n",
       "      <td>https://static.pullandbear.net/assets/public/d...</td>\n",
       "      <td>15.99</td>\n",
       "    </tr>\n",
       "    <tr>\n",
       "      <th>3</th>\n",
       "      <td>Polo Peanuts rayas</td>\n",
       "      <td>https://www.pullandbear.com/es/polo-peanuts-ra...</td>\n",
       "      <td>https://static.pullandbear.net/assets/public/0...</td>\n",
       "      <td>https://static.pullandbear.net/assets/public/b...</td>\n",
       "      <td>22.99</td>\n",
       "    </tr>\n",
       "    <tr>\n",
       "      <th>4</th>\n",
       "      <td>Camiseta Peanuts verde</td>\n",
       "      <td>https://www.pullandbear.com/es/camiseta-peanut...</td>\n",
       "      <td>https://static.pullandbear.net/assets/public/3...</td>\n",
       "      <td>https://static.pullandbear.net/assets/public/4...</td>\n",
       "      <td>15.99</td>\n",
       "    </tr>\n",
       "  </tbody>\n",
       "</table>\n",
       "</div>"
      ],
      "text/plain": [
       "               product_name  \\\n",
       "0   Camiseta Sakamoto Store   \n",
       "1  Camiseta negra Mona Lisa   \n",
       "2   Camiseta Peanuts blanca   \n",
       "3        Polo Peanuts rayas   \n",
       "4    Camiseta Peanuts verde   \n",
       "\n",
       "                                                 url  \\\n",
       "0  https://www.pullandbear.com/es/camiseta-sakamo...   \n",
       "1  https://www.pullandbear.com/es/camiseta-negra-...   \n",
       "2  https://www.pullandbear.com/es/camiseta-peanut...   \n",
       "3  https://www.pullandbear.com/es/polo-peanuts-ra...   \n",
       "4  https://www.pullandbear.com/es/camiseta-peanut...   \n",
       "\n",
       "                                          image1_url  \\\n",
       "0  https://static.pullandbear.net/assets/public/8...   \n",
       "1  https://static.pullandbear.net/assets/public/a...   \n",
       "2  https://static.pullandbear.net/assets/public/7...   \n",
       "3  https://static.pullandbear.net/assets/public/0...   \n",
       "4  https://static.pullandbear.net/assets/public/3...   \n",
       "\n",
       "                                          image2_url  product_price  \n",
       "0  https://static.pullandbear.net/assets/public/c...          17.99  \n",
       "1  https://static.pullandbear.net/assets/public/0...          15.99  \n",
       "2  https://static.pullandbear.net/assets/public/d...          15.99  \n",
       "3  https://static.pullandbear.net/assets/public/b...          22.99  \n",
       "4  https://static.pullandbear.net/assets/public/4...          15.99  "
      ]
     },
     "execution_count": 2,
     "metadata": {},
     "output_type": "execute_result"
    }
   ],
   "source": [
    "# URLs a procesar\n",
    "listaurl = [\n",
    "    \"https://www.pullandbear.com/es/hombre/ropa/camisetas-n6323\",\n",
    "    \"https://www.pullandbear.com/es/hombre/rebajas/ropa/camisetas-y-polos-n7087\",\n",
    "    \"https://www.pullandbear.com/es/hombre/ropa/camisas-n6313\",\n",
    "    \"https://www.pullandbear.com/es/hombre/rebajas/ropa/camisas-n7088\",\n",
    "    \"https://www.pullandbear.com/es/hombre/ropa/punto-n6372\",\n",
    "    \"https://www.pullandbear.com/es/hombre/rebajas/ropa/punto-n7090\",\n",
    "    \"https://www.pullandbear.com/es/hombre/ropa/sudaderas-n6382\",\n",
    "    \"https://www.pullandbear.com/es/hombre/rebajas/ropa/sudaderas-n7089\",\n",
    "    \"https://www.pullandbear.com/es/hombre/ropa/pantalones-n6363\",\n",
    "    \"https://www.pullandbear.com/es/hombre/rebajas/ropa/pantalones-n7091\",\n",
    "    \"https://www.pullandbear.com/es/hombre/ropa/jeans-n6347\",\n",
    "    \"https://www.pullandbear.com/es/hombre/rebajas/ropa/jeans-n7818\"\n",
    "]\n",
    "\n",
    "df_nuevo = ss.process_and_extract_data_main(listaurl)\n",
    "\n",
    "# Mostrar articulos antes y despues\n",
    "print(\"Articulos actuales:\")\n",
    "print(df_nuevo.shape)\n",
    "\n",
    "# Mostrar el DataFrame\n",
    "df_nuevo.head()"
   ]
  },
  {
   "cell_type": "code",
   "execution_count": 3,
   "metadata": {},
   "outputs": [
    {
     "name": "stderr",
     "output_type": "stream",
     "text": [
      " 27%|██▋       | 244/910 [08:42<34:32,  3.11s/it] "
     ]
    },
    {
     "name": "stdout",
     "output_type": "stream",
     "text": [
      "Error procesando la URL https://www.pullandbear.com/es/camisa-vaquera-bolsillos-delanteros-l03475500?cS=833&pelement=674833475: Message: \n",
      "Stacktrace:\n",
      "\tGetHandleVerifier [0x00C77093+25091]\n",
      "\t(No symbol) [0x00BFE6B4]\n",
      "\t(No symbol) [0x00ADB353]\n",
      "\t(No symbol) [0x00B1F4BC]\n",
      "\t(No symbol) [0x00B1F63B]\n",
      "\t(No symbol) [0x00B5D8B2]\n",
      "\t(No symbol) [0x00B41F24]\n",
      "\t(No symbol) [0x00B5B46E]\n",
      "\t(No symbol) [0x00B41C76]\n",
      "\t(No symbol) [0x00B13185]\n",
      "\t(No symbol) [0x00B1430D]\n",
      "\tGetHandleVerifier [0x00F6D693+3131395]\n",
      "\tGetHandleVerifier [0x00F7DE84+3198964]\n",
      "\tGetHandleVerifier [0x00F78DA2+3178258]\n",
      "\tGetHandleVerifier [0x00D13370+664800]\n",
      "\t(No symbol) [0x00C0752D]\n",
      "\t(No symbol) [0x00C04878]\n",
      "\t(No symbol) [0x00C04A16]\n",
      "\t(No symbol) [0x00BF7110]\n",
      "\tBaseThreadInitThunk [0x769A7BA9+25]\n",
      "\tRtlInitializeExceptionChain [0x77CEC0CB+107]\n",
      "\tRtlClearBits [0x77CEC04F+191]\n",
      "\n"
     ]
    },
    {
     "name": "stderr",
     "output_type": "stream",
     "text": [
      " 38%|███▊      | 345/910 [11:40<28:09,  2.99s/it]"
     ]
    },
    {
     "name": "stdout",
     "output_type": "stream",
     "text": [
      "Error procesando la URL https://www.pullandbear.com/es/jersey-capucha-stwd-l07554508?cS=610&pelement=621963131: Message: \n",
      "Stacktrace:\n",
      "\tGetHandleVerifier [0x00C77093+25091]\n",
      "\t(No symbol) [0x00BFE6B4]\n",
      "\t(No symbol) [0x00ADB353]\n",
      "\t(No symbol) [0x00B1F4BC]\n",
      "\t(No symbol) [0x00B1F63B]\n",
      "\t(No symbol) [0x00B5D8B2]\n",
      "\t(No symbol) [0x00B41F24]\n",
      "\t(No symbol) [0x00B5B46E]\n",
      "\t(No symbol) [0x00B41C76]\n",
      "\t(No symbol) [0x00B13185]\n",
      "\t(No symbol) [0x00B1430D]\n",
      "\tGetHandleVerifier [0x00F6D693+3131395]\n",
      "\tGetHandleVerifier [0x00F7DE84+3198964]\n",
      "\tGetHandleVerifier [0x00F78DA2+3178258]\n",
      "\tGetHandleVerifier [0x00D13370+664800]\n",
      "\t(No symbol) [0x00C0752D]\n",
      "\t(No symbol) [0x00C04878]\n",
      "\t(No symbol) [0x00C04A16]\n",
      "\t(No symbol) [0x00BF7110]\n",
      "\tBaseThreadInitThunk [0x769A7BA9+25]\n",
      "\tRtlInitializeExceptionChain [0x77CEC0CB+107]\n",
      "\tRtlClearBits [0x77CEC04F+191]\n",
      "\n"
     ]
    },
    {
     "name": "stderr",
     "output_type": "stream",
     "text": [
      " 42%|████▏     | 380/910 [12:49<23:30,  2.66s/it]"
     ]
    },
    {
     "name": "stdout",
     "output_type": "stream",
     "text": [
      "Error procesando la URL https://www.pullandbear.com/es/jersey-capucha-stwd-l07554508?cS=610&pelement=621963131: Message: \n",
      "Stacktrace:\n",
      "\tGetHandleVerifier [0x00C77093+25091]\n",
      "\t(No symbol) [0x00BFE6B4]\n",
      "\t(No symbol) [0x00ADB353]\n",
      "\t(No symbol) [0x00B1F4BC]\n",
      "\t(No symbol) [0x00B1F63B]\n",
      "\t(No symbol) [0x00B5D8B2]\n",
      "\t(No symbol) [0x00B41F24]\n",
      "\t(No symbol) [0x00B5B46E]\n",
      "\t(No symbol) [0x00B41C76]\n",
      "\t(No symbol) [0x00B13185]\n",
      "\t(No symbol) [0x00B1430D]\n",
      "\tGetHandleVerifier [0x00F6D693+3131395]\n",
      "\tGetHandleVerifier [0x00F7DE84+3198964]\n",
      "\tGetHandleVerifier [0x00F78DA2+3178258]\n",
      "\tGetHandleVerifier [0x00D13370+664800]\n",
      "\t(No symbol) [0x00C0752D]\n",
      "\t(No symbol) [0x00C04878]\n",
      "\t(No symbol) [0x00C04A16]\n",
      "\t(No symbol) [0x00BF7110]\n",
      "\tBaseThreadInitThunk [0x769A7BA9+25]\n",
      "\tRtlInitializeExceptionChain [0x77CEC0CB+107]\n",
      "\tRtlClearBits [0x77CEC04F+191]\n",
      "\n"
     ]
    },
    {
     "name": "stderr",
     "output_type": "stream",
     "text": [
      " 61%|██████▏   | 559/910 [18:16<16:15,  2.78s/it]"
     ]
    },
    {
     "name": "stdout",
     "output_type": "stream",
     "text": [
      "Error procesando la URL https://www.pullandbear.com/es/sudadera-capucha-stwd-l07590508?cS=500&pelement=621934632: Message: \n",
      "Stacktrace:\n",
      "\tGetHandleVerifier [0x00C77093+25091]\n",
      "\t(No symbol) [0x00BFE6B4]\n",
      "\t(No symbol) [0x00ADB353]\n",
      "\t(No symbol) [0x00B1F4BC]\n",
      "\t(No symbol) [0x00B1F63B]\n",
      "\t(No symbol) [0x00B5D8B2]\n",
      "\t(No symbol) [0x00B41F24]\n",
      "\t(No symbol) [0x00B5B46E]\n",
      "\t(No symbol) [0x00B41C76]\n",
      "\t(No symbol) [0x00B13185]\n",
      "\t(No symbol) [0x00B1430D]\n",
      "\tGetHandleVerifier [0x00F6D693+3131395]\n",
      "\tGetHandleVerifier [0x00F7DE84+3198964]\n",
      "\tGetHandleVerifier [0x00F78DA2+3178258]\n",
      "\tGetHandleVerifier [0x00D13370+664800]\n",
      "\t(No symbol) [0x00C0752D]\n",
      "\t(No symbol) [0x00C04878]\n",
      "\t(No symbol) [0x00C04A16]\n",
      "\t(No symbol) [0x00BF7110]\n",
      "\tBaseThreadInitThunk [0x769A7BA9+25]\n",
      "\tRtlInitializeExceptionChain [0x77CEC0CB+107]\n",
      "\tRtlClearBits [0x77CEC04F+191]\n",
      "\n"
     ]
    },
    {
     "name": "stderr",
     "output_type": "stream",
     "text": [
      " 65%|██████▍   | 589/910 [19:05<14:23,  2.69s/it]"
     ]
    },
    {
     "name": "stdout",
     "output_type": "stream",
     "text": [
      "Error procesando la URL https://www.pullandbear.com/es/sudadera-silver-valley-l07590586?cS=800&pelement=635935757: Message: \n",
      "Stacktrace:\n",
      "\tGetHandleVerifier [0x00C77093+25091]\n",
      "\t(No symbol) [0x00BFE6B4]\n",
      "\t(No symbol) [0x00ADB353]\n",
      "\t(No symbol) [0x00B1F4BC]\n",
      "\t(No symbol) [0x00B1F63B]\n",
      "\t(No symbol) [0x00B5D8B2]\n",
      "\t(No symbol) [0x00B41F24]\n",
      "\t(No symbol) [0x00B5B46E]\n",
      "\t(No symbol) [0x00B41C76]\n",
      "\t(No symbol) [0x00B13185]\n",
      "\t(No symbol) [0x00B1430D]\n",
      "\tGetHandleVerifier [0x00F6D693+3131395]\n",
      "\tGetHandleVerifier [0x00F7DE84+3198964]\n",
      "\tGetHandleVerifier [0x00F78DA2+3178258]\n",
      "\tGetHandleVerifier [0x00D13370+664800]\n",
      "\t(No symbol) [0x00C0752D]\n",
      "\t(No symbol) [0x00C04878]\n",
      "\t(No symbol) [0x00C04A16]\n",
      "\t(No symbol) [0x00BF7110]\n",
      "\tBaseThreadInitThunk [0x769A7BA9+25]\n",
      "\tRtlInitializeExceptionChain [0x77CEC0CB+107]\n",
      "\tRtlClearBits [0x77CEC04F+191]\n",
      "\n"
     ]
    },
    {
     "name": "stderr",
     "output_type": "stream",
     "text": [
      " 66%|██████▌   | 601/910 [19:26<14:02,  2.73s/it]"
     ]
    },
    {
     "name": "stdout",
     "output_type": "stream",
     "text": [
      "Error procesando la URL https://www.pullandbear.com/es/sudadera-boxy-capucha-bordado-l03590578?cS=800&pelement=623465685: Message: \n",
      "Stacktrace:\n",
      "\tGetHandleVerifier [0x00C77093+25091]\n",
      "\t(No symbol) [0x00BFE6B4]\n",
      "\t(No symbol) [0x00ADB353]\n",
      "\t(No symbol) [0x00B1F4BC]\n",
      "\t(No symbol) [0x00B1F63B]\n",
      "\t(No symbol) [0x00B5D8B2]\n",
      "\t(No symbol) [0x00B41F24]\n",
      "\t(No symbol) [0x00B5B46E]\n",
      "\t(No symbol) [0x00B41C76]\n",
      "\t(No symbol) [0x00B13185]\n",
      "\t(No symbol) [0x00B1430D]\n",
      "\tGetHandleVerifier [0x00F6D693+3131395]\n",
      "\tGetHandleVerifier [0x00F7DE84+3198964]\n",
      "\tGetHandleVerifier [0x00F78DA2+3178258]\n",
      "\tGetHandleVerifier [0x00D13370+664800]\n",
      "\t(No symbol) [0x00C0752D]\n",
      "\t(No symbol) [0x00C04878]\n",
      "\t(No symbol) [0x00C04A16]\n",
      "\t(No symbol) [0x00BF7110]\n",
      "\tBaseThreadInitThunk [0x769A7BA9+25]\n",
      "\tRtlInitializeExceptionChain [0x77CEC0CB+107]\n",
      "\tRtlClearBits [0x77CEC04F+191]\n",
      "\n"
     ]
    },
    {
     "name": "stderr",
     "output_type": "stream",
     "text": [
      " 67%|██████▋   | 609/910 [19:43<14:10,  2.83s/it]"
     ]
    },
    {
     "name": "stdout",
     "output_type": "stream",
     "text": [
      "Error procesando la URL https://www.pullandbear.com/es/sudadera-capucha-stwd-l07590524?cS=401&pelement=625593849: Message: \n",
      "Stacktrace:\n",
      "\tGetHandleVerifier [0x00C77093+25091]\n",
      "\t(No symbol) [0x00BFE6B4]\n",
      "\t(No symbol) [0x00ADB353]\n",
      "\t(No symbol) [0x00B1F4BC]\n",
      "\t(No symbol) [0x00B1F63B]\n",
      "\t(No symbol) [0x00B5D8B2]\n",
      "\t(No symbol) [0x00B41F24]\n",
      "\t(No symbol) [0x00B5B46E]\n",
      "\t(No symbol) [0x00B41C76]\n",
      "\t(No symbol) [0x00B13185]\n",
      "\t(No symbol) [0x00B1430D]\n",
      "\tGetHandleVerifier [0x00F6D693+3131395]\n",
      "\tGetHandleVerifier [0x00F7DE84+3198964]\n",
      "\tGetHandleVerifier [0x00F78DA2+3178258]\n",
      "\tGetHandleVerifier [0x00D13370+664800]\n",
      "\t(No symbol) [0x00C0752D]\n",
      "\t(No symbol) [0x00C04878]\n",
      "\t(No symbol) [0x00C04A16]\n",
      "\t(No symbol) [0x00BF7110]\n",
      "\tBaseThreadInitThunk [0x769A7BA9+25]\n",
      "\tRtlInitializeExceptionChain [0x77CEC0CB+107]\n",
      "\tRtlClearBits [0x77CEC04F+191]\n",
      "\n"
     ]
    },
    {
     "name": "stderr",
     "output_type": "stream",
     "text": [
      " 67%|██████▋   | 611/910 [19:50<16:42,  3.35s/it]"
     ]
    },
    {
     "name": "stdout",
     "output_type": "stream",
     "text": [
      "Error procesando la URL https://www.pullandbear.com/es/sudadera-capucha-stwd-l07590508?cS=500&pelement=621934632: Message: \n",
      "Stacktrace:\n",
      "\tGetHandleVerifier [0x00C77093+25091]\n",
      "\t(No symbol) [0x00BFE6B4]\n",
      "\t(No symbol) [0x00ADB353]\n",
      "\t(No symbol) [0x00B1F4BC]\n",
      "\t(No symbol) [0x00B1F63B]\n",
      "\t(No symbol) [0x00B5D8B2]\n",
      "\t(No symbol) [0x00B41F24]\n",
      "\t(No symbol) [0x00B5B46E]\n",
      "\t(No symbol) [0x00B41C76]\n",
      "\t(No symbol) [0x00B13185]\n",
      "\t(No symbol) [0x00B1430D]\n",
      "\tGetHandleVerifier [0x00F6D693+3131395]\n",
      "\tGetHandleVerifier [0x00F7DE84+3198964]\n",
      "\tGetHandleVerifier [0x00F78DA2+3178258]\n",
      "\tGetHandleVerifier [0x00D13370+664800]\n",
      "\t(No symbol) [0x00C0752D]\n",
      "\t(No symbol) [0x00C04878]\n",
      "\t(No symbol) [0x00C04A16]\n",
      "\t(No symbol) [0x00BF7110]\n",
      "\tBaseThreadInitThunk [0x769A7BA9+25]\n",
      "\tRtlInitializeExceptionChain [0x77CEC0CB+107]\n",
      "\tRtlClearBits [0x77CEC04F+191]\n",
      "\n"
     ]
    },
    {
     "name": "stderr",
     "output_type": "stream",
     "text": [
      " 71%|███████   | 648/910 [21:02<13:03,  2.99s/it]"
     ]
    },
    {
     "name": "stdout",
     "output_type": "stream",
     "text": [
      "Error procesando la URL https://www.pullandbear.com/es/pantalon-tailoring-baggy-l07679505?cS=700&pelement=636217138: Message: \n",
      "Stacktrace:\n",
      "\tGetHandleVerifier [0x00C77093+25091]\n",
      "\t(No symbol) [0x00BFE6B4]\n",
      "\t(No symbol) [0x00ADB353]\n",
      "\t(No symbol) [0x00B1F4BC]\n",
      "\t(No symbol) [0x00B1F63B]\n",
      "\t(No symbol) [0x00B5D8B2]\n",
      "\t(No symbol) [0x00B41F24]\n",
      "\t(No symbol) [0x00B5B46E]\n",
      "\t(No symbol) [0x00B41C76]\n",
      "\t(No symbol) [0x00B13185]\n",
      "\t(No symbol) [0x00B1430D]\n",
      "\tGetHandleVerifier [0x00F6D693+3131395]\n",
      "\tGetHandleVerifier [0x00F7DE84+3198964]\n",
      "\tGetHandleVerifier [0x00F78DA2+3178258]\n",
      "\tGetHandleVerifier [0x00D13370+664800]\n",
      "\t(No symbol) [0x00C0752D]\n",
      "\t(No symbol) [0x00C04878]\n",
      "\t(No symbol) [0x00C04A16]\n",
      "\t(No symbol) [0x00BF7110]\n",
      "\tBaseThreadInitThunk [0x769A7BA9+25]\n",
      "\tRtlInitializeExceptionChain [0x77CEC0CB+107]\n",
      "\tRtlClearBits [0x77CEC04F+191]\n",
      "\n"
     ]
    },
    {
     "name": "stderr",
     "output_type": "stream",
     "text": [
      " 76%|███████▌  | 688/910 [22:23<10:59,  2.97s/it]"
     ]
    },
    {
     "name": "stdout",
     "output_type": "stream",
     "text": [
      "Error procesando la URL https://www.pullandbear.com/es/pantalon-chandal-l07679902?cS=712&pelement=632131071: Message: \n",
      "Stacktrace:\n",
      "\tGetHandleVerifier [0x00C77093+25091]\n",
      "\t(No symbol) [0x00BFE6B4]\n",
      "\t(No symbol) [0x00ADB353]\n",
      "\t(No symbol) [0x00B1F4BC]\n",
      "\t(No symbol) [0x00B1F63B]\n",
      "\t(No symbol) [0x00B5D8B2]\n",
      "\t(No symbol) [0x00B41F24]\n",
      "\t(No symbol) [0x00B5B46E]\n",
      "\t(No symbol) [0x00B41C76]\n",
      "\t(No symbol) [0x00B13185]\n",
      "\t(No symbol) [0x00B1430D]\n",
      "\tGetHandleVerifier [0x00F6D693+3131395]\n",
      "\tGetHandleVerifier [0x00F7DE84+3198964]\n",
      "\tGetHandleVerifier [0x00F78DA2+3178258]\n",
      "\tGetHandleVerifier [0x00D13370+664800]\n",
      "\t(No symbol) [0x00C0752D]\n",
      "\t(No symbol) [0x00C04878]\n",
      "\t(No symbol) [0x00C04A16]\n",
      "\t(No symbol) [0x00BF7110]\n",
      "\tBaseThreadInitThunk [0x769A7BA9+25]\n",
      "\tRtlInitializeExceptionChain [0x77CEC0CB+107]\n",
      "\tRtlClearBits [0x77CEC04F+191]\n",
      "\n"
     ]
    },
    {
     "name": "stderr",
     "output_type": "stream",
     "text": [
      " 79%|███████▉  | 719/910 [23:37<12:54,  4.06s/it]"
     ]
    },
    {
     "name": "stdout",
     "output_type": "stream",
     "text": [
      "Error procesando la URL https://www.pullandbear.com/es/pantalon-tailoring-baggy-l07679505?cS=700&pelement=636217138: Message: \n",
      "Stacktrace:\n",
      "\tGetHandleVerifier [0x00C77093+25091]\n",
      "\t(No symbol) [0x00BFE6B4]\n",
      "\t(No symbol) [0x00ADB353]\n",
      "\t(No symbol) [0x00B1F4BC]\n",
      "\t(No symbol) [0x00B1F63B]\n",
      "\t(No symbol) [0x00B5D8B2]\n",
      "\t(No symbol) [0x00B41F24]\n",
      "\t(No symbol) [0x00B5B46E]\n",
      "\t(No symbol) [0x00B41C76]\n",
      "\t(No symbol) [0x00B13185]\n",
      "\t(No symbol) [0x00B1430D]\n",
      "\tGetHandleVerifier [0x00F6D693+3131395]\n",
      "\tGetHandleVerifier [0x00F7DE84+3198964]\n",
      "\tGetHandleVerifier [0x00F78DA2+3178258]\n",
      "\tGetHandleVerifier [0x00D13370+664800]\n",
      "\t(No symbol) [0x00C0752D]\n",
      "\t(No symbol) [0x00C04878]\n",
      "\t(No symbol) [0x00C04A16]\n",
      "\t(No symbol) [0x00BF7110]\n",
      "\tBaseThreadInitThunk [0x769A7BA9+25]\n",
      "\tRtlInitializeExceptionChain [0x77CEC0CB+107]\n",
      "\tRtlClearBits [0x77CEC04F+191]\n",
      "\n"
     ]
    },
    {
     "name": "stderr",
     "output_type": "stream",
     "text": [
      " 80%|████████  | 732/910 [24:06<08:33,  2.89s/it]"
     ]
    },
    {
     "name": "stdout",
     "output_type": "stream",
     "text": [
      "Error procesando la URL https://www.pullandbear.com/es/pantalon-chandal-l07679902?cS=712&pelement=632131071: Message: \n",
      "Stacktrace:\n",
      "\tGetHandleVerifier [0x00C77093+25091]\n",
      "\t(No symbol) [0x00BFE6B4]\n",
      "\t(No symbol) [0x00ADB353]\n",
      "\t(No symbol) [0x00B1F4BC]\n",
      "\t(No symbol) [0x00B1F63B]\n",
      "\t(No symbol) [0x00B5D8B2]\n",
      "\t(No symbol) [0x00B41F24]\n",
      "\t(No symbol) [0x00B5B46E]\n",
      "\t(No symbol) [0x00B41C76]\n",
      "\t(No symbol) [0x00B13185]\n",
      "\t(No symbol) [0x00B1430D]\n",
      "\tGetHandleVerifier [0x00F6D693+3131395]\n",
      "\tGetHandleVerifier [0x00F7DE84+3198964]\n",
      "\tGetHandleVerifier [0x00F78DA2+3178258]\n",
      "\tGetHandleVerifier [0x00D13370+664800]\n",
      "\t(No symbol) [0x00C0752D]\n",
      "\t(No symbol) [0x00C04878]\n",
      "\t(No symbol) [0x00C04A16]\n",
      "\t(No symbol) [0x00BF7110]\n",
      "\tBaseThreadInitThunk [0x769A7BA9+25]\n",
      "\tRtlInitializeExceptionChain [0x77CEC0CB+107]\n",
      "\tRtlClearBits [0x77CEC04F+191]\n",
      "\n"
     ]
    },
    {
     "name": "stderr",
     "output_type": "stream",
     "text": [
      " 96%|█████████▌| 872/910 [28:19<01:47,  2.83s/it]"
     ]
    },
    {
     "name": "stdout",
     "output_type": "stream",
     "text": [
      "Error procesando la URL https://www.pullandbear.com/es/jeans-loose-fit-l07684503?cS=434&pelement=621942782: Message: \n",
      "Stacktrace:\n",
      "\tGetHandleVerifier [0x00C77093+25091]\n",
      "\t(No symbol) [0x00BFE6B4]\n",
      "\t(No symbol) [0x00ADB353]\n",
      "\t(No symbol) [0x00B1F4BC]\n",
      "\t(No symbol) [0x00B1F63B]\n",
      "\t(No symbol) [0x00B5D8B2]\n",
      "\t(No symbol) [0x00B41F24]\n",
      "\t(No symbol) [0x00B5B46E]\n",
      "\t(No symbol) [0x00B41C76]\n",
      "\t(No symbol) [0x00B13185]\n",
      "\t(No symbol) [0x00B1430D]\n",
      "\tGetHandleVerifier [0x00F6D693+3131395]\n",
      "\tGetHandleVerifier [0x00F7DE84+3198964]\n",
      "\tGetHandleVerifier [0x00F78DA2+3178258]\n",
      "\tGetHandleVerifier [0x00D13370+664800]\n",
      "\t(No symbol) [0x00C0752D]\n",
      "\t(No symbol) [0x00C04878]\n",
      "\t(No symbol) [0x00C04A16]\n",
      "\t(No symbol) [0x00BF7110]\n",
      "\tBaseThreadInitThunk [0x769A7BA9+25]\n",
      "\tRtlInitializeExceptionChain [0x77CEC0CB+107]\n",
      "\tRtlClearBits [0x77CEC04F+191]\n",
      "\n"
     ]
    },
    {
     "name": "stderr",
     "output_type": "stream",
     "text": [
      " 97%|█████████▋| 882/910 [28:38<01:18,  2.81s/it]"
     ]
    },
    {
     "name": "stdout",
     "output_type": "stream",
     "text": [
      "Error procesando la URL https://www.pullandbear.com/es/jeans-super-baggy-l07684511?cS=434&pelement=621942838: Message: \n",
      "Stacktrace:\n",
      "\tGetHandleVerifier [0x00C77093+25091]\n",
      "\t(No symbol) [0x00BFE6B4]\n",
      "\t(No symbol) [0x00ADB353]\n",
      "\t(No symbol) [0x00B1F4BC]\n",
      "\t(No symbol) [0x00B1F63B]\n",
      "\t(No symbol) [0x00B5D8B2]\n",
      "\t(No symbol) [0x00B41F24]\n",
      "\t(No symbol) [0x00B5B46E]\n",
      "\t(No symbol) [0x00B41C76]\n",
      "\t(No symbol) [0x00B13185]\n",
      "\t(No symbol) [0x00B1430D]\n",
      "\tGetHandleVerifier [0x00F6D693+3131395]\n",
      "\tGetHandleVerifier [0x00F7DE84+3198964]\n",
      "\tGetHandleVerifier [0x00F78DA2+3178258]\n",
      "\tGetHandleVerifier [0x00D13370+664800]\n",
      "\t(No symbol) [0x00C0752D]\n",
      "\t(No symbol) [0x00C04878]\n",
      "\t(No symbol) [0x00C04A16]\n",
      "\t(No symbol) [0x00BF7110]\n",
      "\tBaseThreadInitThunk [0x769A7BA9+25]\n",
      "\tRtlInitializeExceptionChain [0x77CEC0CB+107]\n",
      "\tRtlClearBits [0x77CEC04F+191]\n",
      "\n"
     ]
    },
    {
     "name": "stderr",
     "output_type": "stream",
     "text": [
      " 98%|█████████▊| 889/910 [28:53<01:02,  2.99s/it]"
     ]
    },
    {
     "name": "stdout",
     "output_type": "stream",
     "text": [
      "Error procesando la URL https://www.pullandbear.com/es/jeans-carpenter-paneles-l03683503?cS=400&pelement=674833474: Message: \n",
      "Stacktrace:\n",
      "\tGetHandleVerifier [0x00C77093+25091]\n",
      "\t(No symbol) [0x00BFE6B4]\n",
      "\t(No symbol) [0x00ADB353]\n",
      "\t(No symbol) [0x00B1F4BC]\n",
      "\t(No symbol) [0x00B1F63B]\n",
      "\t(No symbol) [0x00B5D8B2]\n",
      "\t(No symbol) [0x00B41F24]\n",
      "\t(No symbol) [0x00B5B46E]\n",
      "\t(No symbol) [0x00B41C76]\n",
      "\t(No symbol) [0x00B13185]\n",
      "\t(No symbol) [0x00B1430D]\n",
      "\tGetHandleVerifier [0x00F6D693+3131395]\n",
      "\tGetHandleVerifier [0x00F7DE84+3198964]\n",
      "\tGetHandleVerifier [0x00F78DA2+3178258]\n",
      "\tGetHandleVerifier [0x00D13370+664800]\n",
      "\t(No symbol) [0x00C0752D]\n",
      "\t(No symbol) [0x00C04878]\n",
      "\t(No symbol) [0x00C04A16]\n",
      "\t(No symbol) [0x00BF7110]\n",
      "\tBaseThreadInitThunk [0x769A7BA9+25]\n",
      "\tRtlInitializeExceptionChain [0x77CEC0CB+107]\n",
      "\tRtlClearBits [0x77CEC04F+191]\n",
      "\n"
     ]
    },
    {
     "name": "stderr",
     "output_type": "stream",
     "text": [
      " 98%|█████████▊| 890/910 [28:59<01:16,  3.83s/it]"
     ]
    },
    {
     "name": "stdout",
     "output_type": "stream",
     "text": [
      "Error procesando la URL https://www.pullandbear.com/es/jeans-skater-l07685517?cS=427&pelement=621942482: Message: \n",
      "Stacktrace:\n",
      "\tGetHandleVerifier [0x00C77093+25091]\n",
      "\t(No symbol) [0x00BFE6B4]\n",
      "\t(No symbol) [0x00ADB353]\n",
      "\t(No symbol) [0x00B1F4BC]\n",
      "\t(No symbol) [0x00B1F63B]\n",
      "\t(No symbol) [0x00B5D8B2]\n",
      "\t(No symbol) [0x00B41F24]\n",
      "\t(No symbol) [0x00B5B46E]\n",
      "\t(No symbol) [0x00B41C76]\n",
      "\t(No symbol) [0x00B13185]\n",
      "\t(No symbol) [0x00B1430D]\n",
      "\tGetHandleVerifier [0x00F6D693+3131395]\n",
      "\tGetHandleVerifier [0x00F7DE84+3198964]\n",
      "\tGetHandleVerifier [0x00F78DA2+3178258]\n",
      "\tGetHandleVerifier [0x00D13370+664800]\n",
      "\t(No symbol) [0x00C0752D]\n",
      "\t(No symbol) [0x00C04878]\n",
      "\t(No symbol) [0x00C04A16]\n",
      "\t(No symbol) [0x00BF7110]\n",
      "\tBaseThreadInitThunk [0x769A7BA9+25]\n",
      "\tRtlInitializeExceptionChain [0x77CEC0CB+107]\n",
      "\tRtlClearBits [0x77CEC04F+191]\n",
      "\n"
     ]
    },
    {
     "name": "stderr",
     "output_type": "stream",
     "text": [
      " 98%|█████████▊| 891/910 [29:05<01:23,  4.37s/it]"
     ]
    },
    {
     "name": "stdout",
     "output_type": "stream",
     "text": [
      "Error procesando la URL https://www.pullandbear.com/es/jeans-super-baggy-l07684511?cS=427&pelement=621942841: Message: \n",
      "Stacktrace:\n",
      "\tGetHandleVerifier [0x00C77093+25091]\n",
      "\t(No symbol) [0x00BFE6B4]\n",
      "\t(No symbol) [0x00ADB353]\n",
      "\t(No symbol) [0x00B1F4BC]\n",
      "\t(No symbol) [0x00B1F63B]\n",
      "\t(No symbol) [0x00B5D8B2]\n",
      "\t(No symbol) [0x00B41F24]\n",
      "\t(No symbol) [0x00B5B46E]\n",
      "\t(No symbol) [0x00B41C76]\n",
      "\t(No symbol) [0x00B13185]\n",
      "\t(No symbol) [0x00B1430D]\n",
      "\tGetHandleVerifier [0x00F6D693+3131395]\n",
      "\tGetHandleVerifier [0x00F7DE84+3198964]\n",
      "\tGetHandleVerifier [0x00F78DA2+3178258]\n",
      "\tGetHandleVerifier [0x00D13370+664800]\n",
      "\t(No symbol) [0x00C0752D]\n",
      "\t(No symbol) [0x00C04878]\n",
      "\t(No symbol) [0x00C04A16]\n",
      "\t(No symbol) [0x00BF7110]\n",
      "\tBaseThreadInitThunk [0x769A7BA9+25]\n",
      "\tRtlInitializeExceptionChain [0x77CEC0CB+107]\n",
      "\tRtlClearBits [0x77CEC04F+191]\n",
      "\n"
     ]
    },
    {
     "name": "stderr",
     "output_type": "stream",
     "text": [
      " 98%|█████████▊| 894/910 [29:13<00:58,  3.66s/it]"
     ]
    },
    {
     "name": "stdout",
     "output_type": "stream",
     "text": [
      "Error procesando la URL https://www.pullandbear.com/es/jeans-loose-fit-l07684503?cS=833&pelement=621942783: Message: \n",
      "Stacktrace:\n",
      "\tGetHandleVerifier [0x00C77093+25091]\n",
      "\t(No symbol) [0x00BFE6B4]\n",
      "\t(No symbol) [0x00ADB353]\n",
      "\t(No symbol) [0x00B1F4BC]\n",
      "\t(No symbol) [0x00B1F63B]\n",
      "\t(No symbol) [0x00B5D8B2]\n",
      "\t(No symbol) [0x00B41F24]\n",
      "\t(No symbol) [0x00B5B46E]\n",
      "\t(No symbol) [0x00B41C76]\n",
      "\t(No symbol) [0x00B13185]\n",
      "\t(No symbol) [0x00B1430D]\n",
      "\tGetHandleVerifier [0x00F6D693+3131395]\n",
      "\tGetHandleVerifier [0x00F7DE84+3198964]\n",
      "\tGetHandleVerifier [0x00F78DA2+3178258]\n",
      "\tGetHandleVerifier [0x00D13370+664800]\n",
      "\t(No symbol) [0x00C0752D]\n",
      "\t(No symbol) [0x00C04878]\n",
      "\t(No symbol) [0x00C04A16]\n",
      "\t(No symbol) [0x00BF7110]\n",
      "\tBaseThreadInitThunk [0x769A7BA9+25]\n",
      "\tRtlInitializeExceptionChain [0x77CEC0CB+107]\n",
      "\tRtlClearBits [0x77CEC04F+191]\n",
      "\n"
     ]
    },
    {
     "name": "stderr",
     "output_type": "stream",
     "text": [
      " 99%|█████████▊| 897/910 [29:22<00:45,  3.51s/it]"
     ]
    },
    {
     "name": "stdout",
     "output_type": "stream",
     "text": [
      "Error procesando la URL https://www.pullandbear.com/es/jeans-slim-l07685506?cS=400&pelement=621942821: Message: \n",
      "Stacktrace:\n",
      "\tGetHandleVerifier [0x00C77093+25091]\n",
      "\t(No symbol) [0x00BFE6B4]\n",
      "\t(No symbol) [0x00ADB353]\n",
      "\t(No symbol) [0x00B1F4BC]\n",
      "\t(No symbol) [0x00B1F63B]\n",
      "\t(No symbol) [0x00B5D8B2]\n",
      "\t(No symbol) [0x00B41F24]\n",
      "\t(No symbol) [0x00B5B46E]\n",
      "\t(No symbol) [0x00B41C76]\n",
      "\t(No symbol) [0x00B13185]\n",
      "\t(No symbol) [0x00B1430D]\n",
      "\tGetHandleVerifier [0x00F6D693+3131395]\n",
      "\tGetHandleVerifier [0x00F7DE84+3198964]\n",
      "\tGetHandleVerifier [0x00F78DA2+3178258]\n",
      "\tGetHandleVerifier [0x00D13370+664800]\n",
      "\t(No symbol) [0x00C0752D]\n",
      "\t(No symbol) [0x00C04878]\n",
      "\t(No symbol) [0x00C04A16]\n",
      "\t(No symbol) [0x00BF7110]\n",
      "\tBaseThreadInitThunk [0x769A7BA9+25]\n",
      "\tRtlInitializeExceptionChain [0x77CEC0CB+107]\n",
      "\tRtlClearBits [0x77CEC04F+191]\n",
      "\n"
     ]
    },
    {
     "name": "stderr",
     "output_type": "stream",
     "text": [
      " 99%|█████████▉| 903/910 [29:37<00:22,  3.18s/it]"
     ]
    },
    {
     "name": "stdout",
     "output_type": "stream",
     "text": [
      "Error procesando la URL https://www.pullandbear.com/es/jeans-skater-l07684518?cS=700&pelement=657490594: Message: \n",
      "Stacktrace:\n",
      "\tGetHandleVerifier [0x00C77093+25091]\n",
      "\t(No symbol) [0x00BFE6B4]\n",
      "\t(No symbol) [0x00ADB353]\n",
      "\t(No symbol) [0x00B1F4BC]\n",
      "\t(No symbol) [0x00B1F63B]\n",
      "\t(No symbol) [0x00B5D8B2]\n",
      "\t(No symbol) [0x00B41F24]\n",
      "\t(No symbol) [0x00B5B46E]\n",
      "\t(No symbol) [0x00B41C76]\n",
      "\t(No symbol) [0x00B13185]\n",
      "\t(No symbol) [0x00B1430D]\n",
      "\tGetHandleVerifier [0x00F6D693+3131395]\n",
      "\tGetHandleVerifier [0x00F7DE84+3198964]\n",
      "\tGetHandleVerifier [0x00F78DA2+3178258]\n",
      "\tGetHandleVerifier [0x00D13370+664800]\n",
      "\t(No symbol) [0x00C0752D]\n",
      "\t(No symbol) [0x00C04878]\n",
      "\t(No symbol) [0x00C04A16]\n",
      "\t(No symbol) [0x00BF7110]\n",
      "\tBaseThreadInitThunk [0x769A7BA9+25]\n",
      "\tRtlInitializeExceptionChain [0x77CEC0CB+107]\n",
      "\tRtlClearBits [0x77CEC04F+191]\n",
      "\n"
     ]
    },
    {
     "name": "stderr",
     "output_type": "stream",
     "text": [
      "100%|██████████| 910/910 [29:49<00:00,  1.97s/it]\n"
     ]
    },
    {
     "name": "stdout",
     "output_type": "stream",
     "text": [
      "Se guardaron 740 filas descartadas en 'descartes.csv'.\n",
      "Resultados:\n",
      "(1396, 16)\n",
      "Resultados sin duplicados:\n",
      "(656, 16)\n"
     ]
    },
    {
     "data": {
      "text/html": [
       "<div>\n",
       "<style scoped>\n",
       "    .dataframe tbody tr th:only-of-type {\n",
       "        vertical-align: middle;\n",
       "    }\n",
       "\n",
       "    .dataframe tbody tr th {\n",
       "        vertical-align: top;\n",
       "    }\n",
       "\n",
       "    .dataframe thead th {\n",
       "        text-align: right;\n",
       "    }\n",
       "</style>\n",
       "<table border=\"1\" class=\"dataframe\">\n",
       "  <thead>\n",
       "    <tr style=\"text-align: right;\">\n",
       "      <th></th>\n",
       "      <th>product_name</th>\n",
       "      <th>url</th>\n",
       "      <th>image1_url</th>\n",
       "      <th>image2_url</th>\n",
       "      <th>product_price</th>\n",
       "      <th>description</th>\n",
       "      <th>sale_price</th>\n",
       "      <th>old_price</th>\n",
       "      <th>original_price</th>\n",
       "      <th>current_price</th>\n",
       "      <th>color</th>\n",
       "      <th>image_url</th>\n",
       "      <th>mpn</th>\n",
       "      <th>reference_code</th>\n",
       "      <th>category_id</th>\n",
       "      <th>Stock Status</th>\n",
       "    </tr>\n",
       "  </thead>\n",
       "  <tbody>\n",
       "    <tr>\n",
       "      <th>0</th>\n",
       "      <td>Camiseta Sakamoto Store</td>\n",
       "      <td>https://www.pullandbear.com/es/camiseta-sakamo...</td>\n",
       "      <td>https://static.pullandbear.net/assets/public/8...</td>\n",
       "      <td>https://static.pullandbear.net/assets/public/c...</td>\n",
       "      <td>17.99</td>\n",
       "      <td>Camiseta blanca licencia Sakamoto con gráfico,...</td>\n",
       "      <td>NaN</td>\n",
       "      <td>NaN</td>\n",
       "      <td>NaN</td>\n",
       "      <td>17.99</td>\n",
       "      <td>Blanco roto</td>\n",
       "      <td>https://static.pullandbear.net/assets/public/0...</td>\n",
       "      <td>3245/539</td>\n",
       "      <td>03245539</td>\n",
       "      <td>1030139501</td>\n",
       "      <td>In stock</td>\n",
       "    </tr>\n",
       "    <tr>\n",
       "      <th>1</th>\n",
       "      <td>Camiseta negra Mona Lisa</td>\n",
       "      <td>https://www.pullandbear.com/es/camiseta-negra-...</td>\n",
       "      <td>https://static.pullandbear.net/assets/public/a...</td>\n",
       "      <td>https://static.pullandbear.net/assets/public/0...</td>\n",
       "      <td>15.99</td>\n",
       "      <td>Camiseta negra de manga corta con gráfico en l...</td>\n",
       "      <td>NaN</td>\n",
       "      <td>NaN</td>\n",
       "      <td>NaN</td>\n",
       "      <td>15.99</td>\n",
       "      <td>Negro</td>\n",
       "      <td>https://static.pullandbear.net/assets/public/2...</td>\n",
       "      <td>3245/929</td>\n",
       "      <td>03245929</td>\n",
       "      <td>1030139501</td>\n",
       "      <td>In stock</td>\n",
       "    </tr>\n",
       "    <tr>\n",
       "      <th>2</th>\n",
       "      <td>Camiseta Peanuts blanca</td>\n",
       "      <td>https://www.pullandbear.com/es/camiseta-peanut...</td>\n",
       "      <td>https://static.pullandbear.net/assets/public/7...</td>\n",
       "      <td>https://static.pullandbear.net/assets/public/d...</td>\n",
       "      <td>15.99</td>\n",
       "      <td>Camiseta licencia Peanuts de color blanco con ...</td>\n",
       "      <td>NaN</td>\n",
       "      <td>NaN</td>\n",
       "      <td>NaN</td>\n",
       "      <td>15.99</td>\n",
       "      <td>Blanco roto</td>\n",
       "      <td>https://static.pullandbear.net/assets/public/3...</td>\n",
       "      <td>3245/567</td>\n",
       "      <td>03245567</td>\n",
       "      <td>1030139501</td>\n",
       "      <td>In stock</td>\n",
       "    </tr>\n",
       "    <tr>\n",
       "      <th>3</th>\n",
       "      <td>Polo Peanuts rayas</td>\n",
       "      <td>https://www.pullandbear.com/es/polo-peanuts-ra...</td>\n",
       "      <td>https://static.pullandbear.net/assets/public/0...</td>\n",
       "      <td>https://static.pullandbear.net/assets/public/b...</td>\n",
       "      <td>22.99</td>\n",
       "      <td>Polo licencia Peanuts con diseño a rayas, de m...</td>\n",
       "      <td>NaN</td>\n",
       "      <td>NaN</td>\n",
       "      <td>NaN</td>\n",
       "      <td>22.99</td>\n",
       "      <td>Rayas</td>\n",
       "      <td>https://static.pullandbear.net/assets/public/5...</td>\n",
       "      <td>3245/565</td>\n",
       "      <td>03245565</td>\n",
       "      <td>1030139501</td>\n",
       "      <td>In stock</td>\n",
       "    </tr>\n",
       "    <tr>\n",
       "      <th>4</th>\n",
       "      <td>Camiseta Peanuts verde</td>\n",
       "      <td>https://www.pullandbear.com/es/camiseta-peanut...</td>\n",
       "      <td>https://static.pullandbear.net/assets/public/3...</td>\n",
       "      <td>https://static.pullandbear.net/assets/public/4...</td>\n",
       "      <td>15.99</td>\n",
       "      <td>Camiseta licencia Peanuts de color verde con g...</td>\n",
       "      <td>NaN</td>\n",
       "      <td>NaN</td>\n",
       "      <td>NaN</td>\n",
       "      <td>15.99</td>\n",
       "      <td>Verde</td>\n",
       "      <td>https://static.pullandbear.net/assets/public/2...</td>\n",
       "      <td>3245/566</td>\n",
       "      <td>03245566</td>\n",
       "      <td>1030139501</td>\n",
       "      <td>In stock</td>\n",
       "    </tr>\n",
       "  </tbody>\n",
       "</table>\n",
       "</div>"
      ],
      "text/plain": [
       "               product_name  \\\n",
       "0   Camiseta Sakamoto Store   \n",
       "1  Camiseta negra Mona Lisa   \n",
       "2   Camiseta Peanuts blanca   \n",
       "3        Polo Peanuts rayas   \n",
       "4    Camiseta Peanuts verde   \n",
       "\n",
       "                                                 url  \\\n",
       "0  https://www.pullandbear.com/es/camiseta-sakamo...   \n",
       "1  https://www.pullandbear.com/es/camiseta-negra-...   \n",
       "2  https://www.pullandbear.com/es/camiseta-peanut...   \n",
       "3  https://www.pullandbear.com/es/polo-peanuts-ra...   \n",
       "4  https://www.pullandbear.com/es/camiseta-peanut...   \n",
       "\n",
       "                                          image1_url  \\\n",
       "0  https://static.pullandbear.net/assets/public/8...   \n",
       "1  https://static.pullandbear.net/assets/public/a...   \n",
       "2  https://static.pullandbear.net/assets/public/7...   \n",
       "3  https://static.pullandbear.net/assets/public/0...   \n",
       "4  https://static.pullandbear.net/assets/public/3...   \n",
       "\n",
       "                                          image2_url  product_price  \\\n",
       "0  https://static.pullandbear.net/assets/public/c...          17.99   \n",
       "1  https://static.pullandbear.net/assets/public/0...          15.99   \n",
       "2  https://static.pullandbear.net/assets/public/d...          15.99   \n",
       "3  https://static.pullandbear.net/assets/public/b...          22.99   \n",
       "4  https://static.pullandbear.net/assets/public/4...          15.99   \n",
       "\n",
       "                                         description  sale_price  old_price  \\\n",
       "0  Camiseta blanca licencia Sakamoto con gráfico,...         NaN        NaN   \n",
       "1  Camiseta negra de manga corta con gráfico en l...         NaN        NaN   \n",
       "2  Camiseta licencia Peanuts de color blanco con ...         NaN        NaN   \n",
       "3  Polo licencia Peanuts con diseño a rayas, de m...         NaN        NaN   \n",
       "4  Camiseta licencia Peanuts de color verde con g...         NaN        NaN   \n",
       "\n",
       "   original_price  current_price        color  \\\n",
       "0             NaN          17.99  Blanco roto   \n",
       "1             NaN          15.99        Negro   \n",
       "2             NaN          15.99  Blanco roto   \n",
       "3             NaN          22.99        Rayas   \n",
       "4             NaN          15.99        Verde   \n",
       "\n",
       "                                           image_url       mpn reference_code  \\\n",
       "0  https://static.pullandbear.net/assets/public/0...  3245/539       03245539   \n",
       "1  https://static.pullandbear.net/assets/public/2...  3245/929       03245929   \n",
       "2  https://static.pullandbear.net/assets/public/3...  3245/567       03245567   \n",
       "3  https://static.pullandbear.net/assets/public/5...  3245/565       03245565   \n",
       "4  https://static.pullandbear.net/assets/public/2...  3245/566       03245566   \n",
       "\n",
       "  category_id Stock Status  \n",
       "0  1030139501     In stock  \n",
       "1  1030139501     In stock  \n",
       "2  1030139501     In stock  \n",
       "3  1030139501     In stock  \n",
       "4  1030139501     In stock  "
      ]
     },
     "execution_count": 3,
     "metadata": {},
     "output_type": "execute_result"
    }
   ],
   "source": [
    "# Ejecutamos la funcion de scrapeo de productos\n",
    "df_results=ss.process_urls_products(df_nuevo)\n",
    "\n",
    "# Unir los DataFrames utilizando la columna 'url'\n",
    "df_successful=pd.merge(df_nuevo,df_results,on='url', how='inner')\n",
    "\n",
    "# Columnas clave para identificar duplicados\n",
    "columnas_clave = ['product_price','description','current_price','color','image_url','mpn','reference_code','category_id']\n",
    "\n",
    "# Crear un DataFrame con los duplicados eliminados\n",
    "df_sin_duplicados = df_successful.drop_duplicates(subset=columnas_clave, keep='first')\n",
    "\n",
    "# Identificar las filas descartadas como la diferencia entre los originales y los sin duplicados\n",
    "descartes = df_successful.loc[~df_successful.index.isin(df_sin_duplicados.index)]\n",
    "\n",
    "# Guardar los descartes en un archivo CSV\n",
    "descartes.to_csv('../results/articulos_descartados.csv', index=False)\n",
    "\n",
    "print(f\"Se guardaron {len(descartes)} filas descartadas en 'descartes.csv'.\")\n",
    "\n",
    "# Mostrar resultados\n",
    "print(\"Resultados:\")\n",
    "print(df_successful.shape)\n",
    "print(\"Resultados sin duplicados:\")\n",
    "print(df_sin_duplicados.shape)\n",
    "df_sin_duplicados.head()"
   ]
  },
  {
   "cell_type": "markdown",
   "metadata": {},
   "source": [
    "# HOMOGENEIZAR LOS DATOS"
   ]
  },
  {
   "cell_type": "markdown",
   "metadata": {},
   "source": [
    "### COLOR"
   ]
  },
  {
   "cell_type": "code",
   "execution_count": 4,
   "metadata": {},
   "outputs": [
    {
     "name": "stderr",
     "output_type": "stream",
     "text": [
      "C:\\Users\\alexc\\AppData\\Local\\Temp\\ipykernel_2868\\3346448002.py:2: SettingWithCopyWarning: \n",
      "A value is trying to be set on a copy of a slice from a DataFrame.\n",
      "Try using .loc[row_indexer,col_indexer] = value instead\n",
      "\n",
      "See the caveats in the documentation: https://pandas.pydata.org/pandas-docs/stable/user_guide/indexing.html#returning-a-view-versus-a-copy\n",
      "  df_sin_duplicados['color_homogeneizado'] = df_sin_duplicados['color'].apply(ss.homogeneizar_color)\n"
     ]
    }
   ],
   "source": [
    "# Crear una nueva columna con el color homogeneizado\n",
    "df_sin_duplicados['color_homogeneizado'] = df_sin_duplicados['color'].apply(ss.homogeneizar_color)"
   ]
  },
  {
   "cell_type": "markdown",
   "metadata": {},
   "source": [
    "### CATEGORÍA"
   ]
  },
  {
   "cell_type": "code",
   "execution_count": null,
   "metadata": {},
   "outputs": [
    {
     "name": "stderr",
     "output_type": "stream",
     "text": [
      "C:\\Users\\alexc\\AppData\\Local\\Temp\\ipykernel_2868\\664007284.py:2: SettingWithCopyWarning: \n",
      "A value is trying to be set on a copy of a slice from a DataFrame.\n",
      "Try using .loc[row_indexer,col_indexer] = value instead\n",
      "\n",
      "See the caveats in the documentation: https://pandas.pydata.org/pandas-docs/stable/user_guide/indexing.html#returning-a-view-versus-a-copy\n",
      "  df_sin_duplicados['Categoria'] = df_sin_duplicados['product_name'].apply(ss.categorizar_ropa)\n"
     ]
    },
    {
     "data": {
      "text/html": [
       "<div>\n",
       "<style scoped>\n",
       "    .dataframe tbody tr th:only-of-type {\n",
       "        vertical-align: middle;\n",
       "    }\n",
       "\n",
       "    .dataframe tbody tr th {\n",
       "        vertical-align: top;\n",
       "    }\n",
       "\n",
       "    .dataframe thead th {\n",
       "        text-align: right;\n",
       "    }\n",
       "</style>\n",
       "<table border=\"1\" class=\"dataframe\">\n",
       "  <thead>\n",
       "    <tr style=\"text-align: right;\">\n",
       "      <th></th>\n",
       "      <th>product_name</th>\n",
       "      <th>Categoria</th>\n",
       "    </tr>\n",
       "  </thead>\n",
       "  <tbody>\n",
       "    <tr>\n",
       "      <th>857</th>\n",
       "      <td>Sudadera capucha Metallica calavera</td>\n",
       "      <td>Sudadera</td>\n",
       "    </tr>\n",
       "    <tr>\n",
       "      <th>1028</th>\n",
       "      <td>Jeans standard</td>\n",
       "      <td>Pantalón</td>\n",
       "    </tr>\n",
       "    <tr>\n",
       "      <th>585</th>\n",
       "      <td>Jersey cuello alto</td>\n",
       "      <td>Jersey</td>\n",
       "    </tr>\n",
       "    <tr>\n",
       "      <th>366</th>\n",
       "      <td>Sobrecamisa costuras contraste</td>\n",
       "      <td>Sobrecamisa</td>\n",
       "    </tr>\n",
       "    <tr>\n",
       "      <th>343</th>\n",
       "      <td>Camisa cuello mao</td>\n",
       "      <td>Camisa</td>\n",
       "    </tr>\n",
       "    <tr>\n",
       "      <th>331</th>\n",
       "      <td>Camisa rayas cropped</td>\n",
       "      <td>Camisa</td>\n",
       "    </tr>\n",
       "    <tr>\n",
       "      <th>805</th>\n",
       "      <td>Sudadera capucha Montreux Hotel</td>\n",
       "      <td>Sudadera</td>\n",
       "    </tr>\n",
       "    <tr>\n",
       "      <th>679</th>\n",
       "      <td>Sudadera gráfico Good Behaviours</td>\n",
       "      <td>Sudadera</td>\n",
       "    </tr>\n",
       "    <tr>\n",
       "      <th>1084</th>\n",
       "      <td>Pantalón tailoring P&amp;B Black Label</td>\n",
       "      <td>Pantalón</td>\n",
       "    </tr>\n",
       "    <tr>\n",
       "      <th>202</th>\n",
       "      <td>Polo cuello contraste</td>\n",
       "      <td>Polo</td>\n",
       "    </tr>\n",
       "  </tbody>\n",
       "</table>\n",
       "</div>"
      ],
      "text/plain": [
       "                             product_name    Categoria\n",
       "857   Sudadera capucha Metallica calavera     Sudadera\n",
       "1028                       Jeans standard     Pantalón\n",
       "585                    Jersey cuello alto       Jersey\n",
       "366        Sobrecamisa costuras contraste  Sobrecamisa\n",
       "343                     Camisa cuello mao       Camisa\n",
       "331                  Camisa rayas cropped       Camisa\n",
       "805       Sudadera capucha Montreux Hotel     Sudadera\n",
       "679      Sudadera gráfico Good Behaviours     Sudadera\n",
       "1084   Pantalón tailoring P&B Black Label     Pantalón\n",
       "202                 Polo cuello contraste         Polo"
      ]
     },
     "execution_count": 6,
     "metadata": {},
     "output_type": "execute_result"
    }
   ],
   "source": [
    "# Crear una nueva columna con la categoría de la prenda\n",
    "df_sin_duplicados['Categoria'] = df_sin_duplicados['product_name'].apply(ss.categorizar_ropa)\n",
    "\n",
    "# Mostrar las primeras filas para comprobar\n",
    "df_sin_duplicados[['product_name', 'Categoria']].sample(5)\n"
   ]
  },
  {
   "cell_type": "markdown",
   "metadata": {},
   "source": [
    "### CONTROLAR URLs FALTANTES"
   ]
  },
  {
   "cell_type": "code",
   "execution_count": 7,
   "metadata": {},
   "outputs": [],
   "source": [
    "# Asignar \"out of stock\" a la columna 'Stock Status' donde 'image_url' sea vacío o nulo\n",
    "df_sin_duplicados.loc[(df_sin_duplicados['image_url'].isna()) | (df_sin_duplicados['image_url'] == ''), 'Stock Status'] = 'Out of Stock'"
   ]
  },
  {
   "cell_type": "markdown",
   "metadata": {},
   "source": [
    "### GUARDAR CSV"
   ]
  },
  {
   "cell_type": "code",
   "execution_count": 8,
   "metadata": {},
   "outputs": [],
   "source": [
    "# Guardar los cambios en un archivo nuevo si lo necesitas\n",
    "df_sin_duplicados.to_csv('../results/all_products_info_with_categories.csv', index=False)"
   ]
  }
 ],
 "metadata": {
  "kernelspec": {
   "display_name": "Python 3",
   "language": "python",
   "name": "python3"
  },
  "language_info": {
   "codemirror_mode": {
    "name": "ipython",
    "version": 3
   },
   "file_extension": ".py",
   "mimetype": "text/x-python",
   "name": "python",
   "nbconvert_exporter": "python",
   "pygments_lexer": "ipython3",
   "version": "3.12.8"
  }
 },
 "nbformat": 4,
 "nbformat_minor": 2
}
