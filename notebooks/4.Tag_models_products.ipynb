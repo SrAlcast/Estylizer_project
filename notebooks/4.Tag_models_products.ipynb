{
 "cells": [
  {
   "cell_type": "code",
   "execution_count": 1,
   "metadata": {},
   "outputs": [],
   "source": [
    "# Importar las bibliotecas necesarias\n",
    "%load_ext autoreload\n",
    "%autoreload 2\n",
    "import sys\n",
    "# Añadimos la carpeta que contiene nuestro .py al path de Python\n",
    "sys.path.append(\"../src/\")\n",
    "import support_tag as st\n",
    "import support_mongo as sm\n",
    "import pandas as pd"
   ]
  },
  {
   "cell_type": "code",
   "execution_count": 3,
   "metadata": {},
   "outputs": [],
   "source": [
    "# Importar datos bbdd\n",
    "bd=sm.conectar_a_mongo(\"PullnBearData\")\n",
    "nombre_coleccion1=\"modelos_pull_hombre\"\n",
    "nombre_coleccion2=\"productos_pull_hombre\"\n",
    "df_modelos = sm.importar_a_dataframe(bd, nombre_coleccion1)\n",
    "df_productos = sm.importar_a_dataframe(bd, nombre_coleccion2)"
   ]
  },
  {
   "cell_type": "code",
   "execution_count": 4,
   "metadata": {},
   "outputs": [],
   "source": [
    "# Filtrar productos que son \"Pantalón\"\n",
    "df_productos_inferiores = df_productos[df_productos['Categoria'] == 'Pantalón']\n",
    "\n",
    "# Filtrar productos que NO son \"Pantalón\"\n",
    "df__productos_superiores = df_productos[df_productos['Categoria'] != 'Pantalón']"
   ]
  },
  {
   "cell_type": "code",
   "execution_count": 5,
   "metadata": {},
   "outputs": [],
   "source": [
    "df_modelos1=df_modelos.sample(2)\n",
    "df_productos_inferiores1=df_productos_inferiores.sample(2)\n",
    "df__productos_superiores1=df__productos_superiores.sample(2)"
   ]
  },
  {
   "cell_type": "markdown",
   "metadata": {},
   "source": [
    "### Tagear Modelos"
   ]
  },
  {
   "cell_type": "code",
   "execution_count": null,
   "metadata": {},
   "outputs": [],
   "source": [
    "import requests\n",
    "from io import BytesIO\n",
    "import base64\n",
    "\n",
    "def download_image(image_url):\n",
    "    try:\n",
    "        response = requests.get(image_url, timeout=5)  # Establece un tiempo de espera\n",
    "        response.raise_for_status()  # Lanza un error si la descarga falla\n",
    "        \n",
    "        content_type = response.headers.get(\"Content-Type\", \"\")\n",
    "        if \"image\" not in content_type:\n",
    "            print(f\"La URL no es una imagen válida: {image_url}\")\n",
    "            return None\n",
    "        \n",
    "        return response.content\n",
    "    except requests.exceptions.RequestException as e:\n",
    "        print(f\"Error al descargar la imagen {image_url}: {e}\")\n",
    "        return None\n",
    "\n",
    "\n",
    "image_url=\"https://static.pullandbear.net/assets/public/104d/71ac/19744008911a/0730d644dece/07678525802-M/07678525802-M.jpg?ts=1730136321453&w=438&f=auto\"\n",
    "download_image(image_url)\n"
   ]
  },
  {
   "cell_type": "code",
   "execution_count": 7,
   "metadata": {},
   "outputs": [],
   "source": [
    "df_modelos_tageados = st.tag_models(df_modelos1)"
   ]
  },
  {
   "cell_type": "code",
   "execution_count": 9,
   "metadata": {},
   "outputs": [],
   "source": [
    "df_modelos_tageados.to_csv('../results/Modelos_pruebas.csv', index=False)"
   ]
  },
  {
   "cell_type": "code",
   "execution_count": null,
   "metadata": {},
   "outputs": [],
   "source": [
    "df_productos_superior_tageados=st.tag_products_superior(df__productos_superiores1)"
   ]
  },
  {
   "cell_type": "code",
   "execution_count": null,
   "metadata": {},
   "outputs": [],
   "source": [
    "df_productos_inferiores_tageados=st.tag_products_inferior(df_productos_inferiores1)"
   ]
  },
  {
   "cell_type": "code",
   "execution_count": 16,
   "metadata": {},
   "outputs": [],
   "source": [
    "df_productos_tageados=pd.concat([df_productos_superior_tageados,df_productos_inferiores_tageados], ignore_index=True)"
   ]
  },
  {
   "cell_type": "code",
   "execution_count": 18,
   "metadata": {},
   "outputs": [],
   "source": [
    "df_productos_tageados.to_csv('../results/productos_pruebas.csv', index=False)"
   ]
  },
  {
   "cell_type": "code",
   "execution_count": null,
   "metadata": {},
   "outputs": [],
   "source": [
    "# Guardamos los datos en la bbdd de Mongo\n",
    "bd=sm.conectar_a_mongo(\"PullnBearData\")\n",
    "nombre_coleccion1=\"modelos_pull_hombre_tageados\"\n",
    "nombre_coleccion2=\"productos_pull_hombre_tageados\"\n",
    "sm.eliminar_coleccion(bd, nombre_coleccion1)\n",
    "sm.subir_dataframe_a_mongo(bd, df_modelos_tageados, nombre_coleccion1)\n",
    "sm.eliminar_coleccion(bd, nombre_coleccion2)\n",
    "sm.subir_dataframe_a_mongo(bd, df_productos_tageados, nombre_coleccion2)"
   ]
  }
 ],
 "metadata": {
  "kernelspec": {
   "display_name": "Python 3",
   "language": "python",
   "name": "python3"
  },
  "language_info": {
   "codemirror_mode": {
    "name": "ipython",
    "version": 3
   },
   "file_extension": ".py",
   "mimetype": "text/x-python",
   "name": "python",
   "nbconvert_exporter": "python",
   "pygments_lexer": "ipython3",
   "version": "3.12.8"
  }
 },
 "nbformat": 4,
 "nbformat_minor": 2
}
