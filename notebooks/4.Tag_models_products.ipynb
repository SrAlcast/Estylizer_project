{
 "cells": [
  {
   "cell_type": "code",
   "execution_count": null,
   "metadata": {},
   "outputs": [],
   "source": [
    "# Importar las bibliotecas necesarias\n",
    "%load_ext autoreload\n",
    "%autoreload 2\n",
    "import sys\n",
    "# Añadimos la carpeta que contiene nuestro .py al path de Python\n",
    "sys.path.append(\"../src/\")\n",
    "import support_tag as st\n",
    "import support_mongo as sm\n",
    "import pandas as pd"
   ]
  },
  {
   "cell_type": "code",
   "execution_count": null,
   "metadata": {},
   "outputs": [],
   "source": [
    "# Importar datos bbdd\n",
    "bd=sm.conectar_a_mongo(\"PullnBearData\")\n",
    "nombre_coleccion1=\"modelos_pull_hombre\"\n",
    "nombre_coleccion2=\"productos_pull_hombre\"\n",
    "df_modelos = sm.importar_a_dataframe(bd, nombre_coleccion1)\n",
    "df_productos = sm.importar_a_dataframe(bd, nombre_coleccion2)"
   ]
  },
  {
   "cell_type": "code",
   "execution_count": null,
   "metadata": {},
   "outputs": [],
   "source": [
    "# Filtrar productos que son \"Pantalón\"\n",
    "df_productos_inferiores = df_productos[df_productos['Categoria'] == 'Pantalón']\n",
    "\n",
    "# Filtrar productos que NO son \"Pantalón\"\n",
    "df_productos_superiores = df_productos[df_productos['Categoria'] != 'Pantalón']"
   ]
  },
  {
   "cell_type": "code",
   "execution_count": null,
   "metadata": {},
   "outputs": [],
   "source": [
    "df_modelos1=df_modelos.sample(2)\n",
    "df_productos_inferiores1=df_productos_inferiores.sample(2)\n",
    "df__productos_superiores1=df_productos_superiores.sample(2)"
   ]
  },
  {
   "cell_type": "markdown",
   "metadata": {},
   "source": [
    "### Tagear Modelos"
   ]
  },
  {
   "cell_type": "code",
   "execution_count": null,
   "metadata": {},
   "outputs": [],
   "source": [
    "df_modelos_tageados = st.tag_models(df_modelos)"
   ]
  },
  {
   "cell_type": "code",
   "execution_count": null,
   "metadata": {},
   "outputs": [],
   "source": [
    "df_modelos_tageados.to_csv('../results/Modelos_taggeados.csv', index=False)"
   ]
  },
  {
   "cell_type": "code",
   "execution_count": null,
   "metadata": {},
   "outputs": [],
   "source": [
    "df_productos_superior_tageados=st.tag_products_superior(df_productos_superiores)"
   ]
  },
  {
   "cell_type": "code",
   "execution_count": null,
   "metadata": {},
   "outputs": [],
   "source": [
    "df_productos_inferiores_tageados=st.tag_products_inferior(df_productos_inferiores)"
   ]
  },
  {
   "cell_type": "code",
   "execution_count": null,
   "metadata": {},
   "outputs": [],
   "source": [
    "df_productos_tageados=pd.concat([df_productos_superior_tageados,df_productos_inferiores_tageados], ignore_index=True)"
   ]
  },
  {
   "cell_type": "code",
   "execution_count": null,
   "metadata": {},
   "outputs": [],
   "source": [
    "df_productos_tageados.to_csv('../results/all_products_tagged.csv', index=False)"
   ]
  },
  {
   "cell_type": "code",
   "execution_count": null,
   "metadata": {},
   "outputs": [],
   "source": [
    "# Guardamos los datos en la bbdd de Mongo\n",
    "bd=sm.conectar_a_mongo(\"PullnBearData\")\n",
    "nombre_coleccion1=\"modelos_pull_hombre_pruebas\"\n",
    "nombre_coleccion2=\"productos_pull_hombre_pruebas\"\n",
    "sm.eliminar_coleccion(bd, nombre_coleccion1)\n",
    "sm.subir_dataframe_a_mongo(bd, df_modelos_tageados, nombre_coleccion1)\n",
    "sm.eliminar_coleccion(bd, nombre_coleccion2)\n",
    "sm.subir_dataframe_a_mongo(bd, df_productos_tageados, nombre_coleccion2)"
   ]
  }
 ],
 "metadata": {
  "kernelspec": {
   "display_name": "Python 3",
   "language": "python",
   "name": "python3"
  },
  "language_info": {
   "codemirror_mode": {
    "name": "ipython",
    "version": 3
   },
   "file_extension": ".py",
   "mimetype": "text/x-python",
   "name": "python",
   "nbconvert_exporter": "python",
   "pygments_lexer": "ipython3",
   "version": "3.12.9"
  }
 },
 "nbformat": 4,
 "nbformat_minor": 2
}
