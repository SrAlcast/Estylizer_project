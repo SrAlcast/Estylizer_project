{
 "cells": [
  {
   "cell_type": "code",
   "execution_count": 1,
   "metadata": {},
   "outputs": [],
   "source": [
    "import pandas as pd\n",
    "%load_ext autoreload\n",
    "%autoreload 2\n",
    "import sys\n",
    "# Añadimos la carpeta que contiene nuestro .py al path de Python\n",
    "sys.path.append(\"../src/\")\n",
    "import support_mongo as sm"
   ]
  },
  {
   "cell_type": "code",
   "execution_count": 5,
   "metadata": {},
   "outputs": [
    {
     "data": {
      "text/html": [
       "<div>\n",
       "<style scoped>\n",
       "    .dataframe tbody tr th:only-of-type {\n",
       "        vertical-align: middle;\n",
       "    }\n",
       "\n",
       "    .dataframe tbody tr th {\n",
       "        vertical-align: top;\n",
       "    }\n",
       "\n",
       "    .dataframe thead th {\n",
       "        text-align: right;\n",
       "    }\n",
       "</style>\n",
       "<table border=\"1\" class=\"dataframe\">\n",
       "  <thead>\n",
       "    <tr style=\"text-align: right;\">\n",
       "      <th></th>\n",
       "      <th>product_name</th>\n",
       "      <th>url</th>\n",
       "      <th>image1_url</th>\n",
       "      <th>image2_url</th>\n",
       "      <th>product_price</th>\n",
       "      <th>description</th>\n",
       "      <th>sale_price</th>\n",
       "      <th>old_price</th>\n",
       "      <th>original_price</th>\n",
       "      <th>current_price</th>\n",
       "      <th>...</th>\n",
       "      <th>color_homogeneizado</th>\n",
       "      <th>Categoria</th>\n",
       "      <th>Fondo</th>\n",
       "      <th>Modelo</th>\n",
       "      <th>tag_1</th>\n",
       "      <th>tag_2</th>\n",
       "      <th>tag_3</th>\n",
       "      <th>tag_4</th>\n",
       "      <th>tag_5</th>\n",
       "      <th>tag_6</th>\n",
       "    </tr>\n",
       "  </thead>\n",
       "  <tbody>\n",
       "    <tr>\n",
       "      <th>0</th>\n",
       "      <td>Pantalón jogger con lino</td>\n",
       "      <td>https://www.pullandbear.com/es/pantalon-jogger...</td>\n",
       "      <td>https://static.pullandbear.net/assets/public/1...</td>\n",
       "      <td>https://static.pullandbear.net/assets/public/d...</td>\n",
       "      <td>25.99</td>\n",
       "      <td>Pantalón jogger con cintura elástica con cordó...</td>\n",
       "      <td>NaN</td>\n",
       "      <td>NaN</td>\n",
       "      <td>NaN</td>\n",
       "      <td>25.99</td>\n",
       "      <td>...</td>\n",
       "      <td>Gris</td>\n",
       "      <td>Pantalón</td>\n",
       "      <td>Blanco</td>\n",
       "      <td>Modelo</td>\n",
       "      <td>Formal</td>\n",
       "      <td>Formal</td>\n",
       "      <td>Oversize</td>\n",
       "      <td>Ajustada</td>\n",
       "      <td>Deportivo</td>\n",
       "      <td>Skinny</td>\n",
       "    </tr>\n",
       "  </tbody>\n",
       "</table>\n",
       "<p>1 rows × 26 columns</p>\n",
       "</div>"
      ],
      "text/plain": [
       "               product_name  \\\n",
       "0  Pantalón jogger con lino   \n",
       "\n",
       "                                                 url  \\\n",
       "0  https://www.pullandbear.com/es/pantalon-jogger...   \n",
       "\n",
       "                                          image1_url  \\\n",
       "0  https://static.pullandbear.net/assets/public/1...   \n",
       "\n",
       "                                          image2_url  product_price  \\\n",
       "0  https://static.pullandbear.net/assets/public/d...          25.99   \n",
       "\n",
       "                                         description  sale_price  old_price  \\\n",
       "0  Pantalón jogger con cintura elástica con cordó...         NaN        NaN   \n",
       "\n",
       "   original_price  current_price  ... color_homogeneizado Categoria   Fondo  \\\n",
       "0             NaN          25.99  ...                Gris  Pantalón  Blanco   \n",
       "\n",
       "   Modelo   tag_1   tag_2     tag_3     tag_4      tag_5   tag_6  \n",
       "0  Modelo  Formal  Formal  Oversize  Ajustada  Deportivo  Skinny  \n",
       "\n",
       "[1 rows x 26 columns]"
      ]
     },
     "execution_count": 5,
     "metadata": {},
     "output_type": "execute_result"
    }
   ],
   "source": [
    "df_modelos=pd.read_csv('../results/Modelos_taggeados.csv')\n",
    "df_modelos.head(1)"
   ]
  },
  {
   "cell_type": "code",
   "execution_count": 7,
   "metadata": {},
   "outputs": [
    {
     "data": {
      "text/plain": [
       "(181, 26)"
      ]
     },
     "execution_count": 7,
     "metadata": {},
     "output_type": "execute_result"
    }
   ],
   "source": [
    "df_modelos.shape"
   ]
  },
  {
   "cell_type": "code",
   "execution_count": 3,
   "metadata": {},
   "outputs": [
    {
     "data": {
      "text/html": [
       "<div>\n",
       "<style scoped>\n",
       "    .dataframe tbody tr th:only-of-type {\n",
       "        vertical-align: middle;\n",
       "    }\n",
       "\n",
       "    .dataframe tbody tr th {\n",
       "        vertical-align: top;\n",
       "    }\n",
       "\n",
       "    .dataframe thead th {\n",
       "        text-align: right;\n",
       "    }\n",
       "</style>\n",
       "<table border=\"1\" class=\"dataframe\">\n",
       "  <thead>\n",
       "    <tr style=\"text-align: right;\">\n",
       "      <th></th>\n",
       "      <th>product_name</th>\n",
       "      <th>url</th>\n",
       "      <th>image1_url</th>\n",
       "      <th>image2_url</th>\n",
       "      <th>product_price</th>\n",
       "      <th>description</th>\n",
       "      <th>sale_price</th>\n",
       "      <th>old_price</th>\n",
       "      <th>original_price</th>\n",
       "      <th>current_price</th>\n",
       "      <th>...</th>\n",
       "      <th>image_url</th>\n",
       "      <th>mpn</th>\n",
       "      <th>reference_code</th>\n",
       "      <th>category_id</th>\n",
       "      <th>Stock Status</th>\n",
       "      <th>color_homogeneizado</th>\n",
       "      <th>Categoria</th>\n",
       "      <th>tag_1</th>\n",
       "      <th>tag_2</th>\n",
       "      <th>tag_3</th>\n",
       "    </tr>\n",
       "  </thead>\n",
       "  <tbody>\n",
       "    <tr>\n",
       "      <th>0</th>\n",
       "      <td>Camiseta Sakamoto Store</td>\n",
       "      <td>https://www.pullandbear.com/es/camiseta-sakamo...</td>\n",
       "      <td>https://static.pullandbear.net/assets/public/8...</td>\n",
       "      <td>https://static.pullandbear.net/assets/public/c...</td>\n",
       "      <td>17.99</td>\n",
       "      <td>Camiseta blanca licencia Sakamoto con gráfico,...</td>\n",
       "      <td>NaN</td>\n",
       "      <td>NaN</td>\n",
       "      <td>NaN</td>\n",
       "      <td>17.99</td>\n",
       "      <td>...</td>\n",
       "      <td>https://static.pullandbear.net/assets/public/0...</td>\n",
       "      <td>3245/539</td>\n",
       "      <td>3245539.0</td>\n",
       "      <td>1.030140e+09</td>\n",
       "      <td>In stock</td>\n",
       "      <td>Blanco</td>\n",
       "      <td>Camiseta</td>\n",
       "      <td>Bohemio</td>\n",
       "      <td>Manga corta</td>\n",
       "      <td>Oversize</td>\n",
       "    </tr>\n",
       "  </tbody>\n",
       "</table>\n",
       "<p>1 rows × 21 columns</p>\n",
       "</div>"
      ],
      "text/plain": [
       "              product_name                                                url  \\\n",
       "0  Camiseta Sakamoto Store  https://www.pullandbear.com/es/camiseta-sakamo...   \n",
       "\n",
       "                                          image1_url  \\\n",
       "0  https://static.pullandbear.net/assets/public/8...   \n",
       "\n",
       "                                          image2_url  product_price  \\\n",
       "0  https://static.pullandbear.net/assets/public/c...          17.99   \n",
       "\n",
       "                                         description  sale_price  old_price  \\\n",
       "0  Camiseta blanca licencia Sakamoto con gráfico,...         NaN        NaN   \n",
       "\n",
       "   original_price  current_price  ...  \\\n",
       "0             NaN          17.99  ...   \n",
       "\n",
       "                                           image_url       mpn reference_code  \\\n",
       "0  https://static.pullandbear.net/assets/public/0...  3245/539      3245539.0   \n",
       "\n",
       "    category_id  Stock Status color_homogeneizado Categoria    tag_1  \\\n",
       "0  1.030140e+09      In stock              Blanco  Camiseta  Bohemio   \n",
       "\n",
       "         tag_2     tag_3  \n",
       "0  Manga corta  Oversize  \n",
       "\n",
       "[1 rows x 21 columns]"
      ]
     },
     "execution_count": 3,
     "metadata": {},
     "output_type": "execute_result"
    }
   ],
   "source": [
    "df_productos=pd.read_csv('../results/all_products_tagged.csv')\n",
    "df_productos.head(1)"
   ]
  },
  {
   "cell_type": "code",
   "execution_count": 8,
   "metadata": {},
   "outputs": [
    {
     "name": "stdout",
     "output_type": "stream",
     "text": [
      "DataFrame subido a la colección: modelos_pull_hombre_pruebas\n",
      "DataFrame subido a la colección: productos_pull_hombre_pruebas\n"
     ]
    }
   ],
   "source": [
    "# Guardamos los datos en la bbdd de Mongo\n",
    "bd=sm.conectar_a_mongo(\"PullnBearData\")\n",
    "nombre_coleccion1=\"modelos_pull_hombre_pruebas\"\n",
    "nombre_coleccion2=\"productos_pull_hombre_pruebas\"\n",
    "sm.eliminar_coleccion(bd, nombre_coleccion1)\n",
    "sm.subir_dataframe_a_mongo(bd, df_modelos, nombre_coleccion1)\n",
    "sm.eliminar_coleccion(bd, nombre_coleccion2)\n",
    "sm.subir_dataframe_a_mongo(bd, df_productos, nombre_coleccion2)"
   ]
  }
 ],
 "metadata": {
  "kernelspec": {
   "display_name": "Python 3",
   "language": "python",
   "name": "python3"
  },
  "language_info": {
   "codemirror_mode": {
    "name": "ipython",
    "version": 3
   },
   "file_extension": ".py",
   "mimetype": "text/x-python",
   "name": "python",
   "nbconvert_exporter": "python",
   "pygments_lexer": "ipython3",
   "version": "3.12.9"
  }
 },
 "nbformat": 4,
 "nbformat_minor": 2
}
